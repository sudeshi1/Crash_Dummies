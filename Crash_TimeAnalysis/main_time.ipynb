{
 "cells": [
  {
   "cell_type": "code",
   "execution_count": 5,
   "id": "d06ecea7",
   "metadata": {},
   "outputs": [],
   "source": [
    "%matplotlib inline"
   ]
  },
  {
   "cell_type": "code",
   "execution_count": 6,
   "id": "657fdbe3",
   "metadata": {},
   "outputs": [],
   "source": [
    "# Import Modules\n",
    "import os\n",
    "import pandas as pd\n",
    "import numpy as np\n",
    "import matplotlib.pyplot as plt"
   ]
  },
  {
   "cell_type": "code",
   "execution_count": 7,
   "id": "337eef91",
   "metadata": {},
   "outputs": [
    {
     "name": "stdout",
     "output_type": "stream",
     "text": [
      "Resources\\ACCIDENT.csv\n"
     ]
    }
   ],
   "source": [
    "# Set path for csv file\n",
    "csvpath = os.path.join(\"Resources\", \"ACCIDENT.csv\")\n",
    "print(csvpath)"
   ]
  },
  {
   "cell_type": "code",
   "execution_count": 8,
   "id": "e275d0bf",
   "metadata": {},
   "outputs": [
    {
     "data": {
      "text/html": [
       "<div>\n",
       "<style scoped>\n",
       "    .dataframe tbody tr th:only-of-type {\n",
       "        vertical-align: middle;\n",
       "    }\n",
       "\n",
       "    .dataframe tbody tr th {\n",
       "        vertical-align: top;\n",
       "    }\n",
       "\n",
       "    .dataframe thead th {\n",
       "        text-align: right;\n",
       "    }\n",
       "</style>\n",
       "<table border=\"1\" class=\"dataframe\">\n",
       "  <thead>\n",
       "    <tr style=\"text-align: right;\">\n",
       "      <th></th>\n",
       "      <th>CASENUM</th>\n",
       "      <th>REGION</th>\n",
       "      <th>PSU</th>\n",
       "      <th>PJ</th>\n",
       "      <th>PSU_VAR</th>\n",
       "      <th>URBANICITY</th>\n",
       "      <th>STRATUM</th>\n",
       "      <th>VE_TOTAL</th>\n",
       "      <th>VE_FORMS</th>\n",
       "      <th>PVH_INVL</th>\n",
       "      <th>...</th>\n",
       "      <th>MANCOL_IM</th>\n",
       "      <th>RELJCT1_IM</th>\n",
       "      <th>RELJCT2_IM</th>\n",
       "      <th>LGTCON_IM</th>\n",
       "      <th>WEATHR_IM</th>\n",
       "      <th>MAXSEV_IM</th>\n",
       "      <th>NO_INJ_IM</th>\n",
       "      <th>ALCHL_IM</th>\n",
       "      <th>PSUSTRAT</th>\n",
       "      <th>WEIGHT</th>\n",
       "    </tr>\n",
       "  </thead>\n",
       "  <tbody>\n",
       "    <tr>\n",
       "      <th>0</th>\n",
       "      <td>201800381338</td>\n",
       "      <td>4</td>\n",
       "      <td>56</td>\n",
       "      <td>208</td>\n",
       "      <td>208</td>\n",
       "      <td>1</td>\n",
       "      <td>9</td>\n",
       "      <td>4</td>\n",
       "      <td>4</td>\n",
       "      <td>0</td>\n",
       "      <td>...</td>\n",
       "      <td>1</td>\n",
       "      <td>0</td>\n",
       "      <td>1</td>\n",
       "      <td>1</td>\n",
       "      <td>1</td>\n",
       "      <td>0</td>\n",
       "      <td>0</td>\n",
       "      <td>2</td>\n",
       "      <td>20</td>\n",
       "      <td>187.193308</td>\n",
       "    </tr>\n",
       "    <tr>\n",
       "      <th>1</th>\n",
       "      <td>201800381366</td>\n",
       "      <td>4</td>\n",
       "      <td>56</td>\n",
       "      <td>214</td>\n",
       "      <td>214</td>\n",
       "      <td>1</td>\n",
       "      <td>7</td>\n",
       "      <td>3</td>\n",
       "      <td>3</td>\n",
       "      <td>0</td>\n",
       "      <td>...</td>\n",
       "      <td>1</td>\n",
       "      <td>0</td>\n",
       "      <td>1</td>\n",
       "      <td>1</td>\n",
       "      <td>1</td>\n",
       "      <td>1</td>\n",
       "      <td>1</td>\n",
       "      <td>2</td>\n",
       "      <td>20</td>\n",
       "      <td>149.787336</td>\n",
       "    </tr>\n",
       "    <tr>\n",
       "      <th>2</th>\n",
       "      <td>201800381374</td>\n",
       "      <td>4</td>\n",
       "      <td>56</td>\n",
       "      <td>214</td>\n",
       "      <td>214</td>\n",
       "      <td>1</td>\n",
       "      <td>6</td>\n",
       "      <td>2</td>\n",
       "      <td>2</td>\n",
       "      <td>0</td>\n",
       "      <td>...</td>\n",
       "      <td>7</td>\n",
       "      <td>0</td>\n",
       "      <td>1</td>\n",
       "      <td>2</td>\n",
       "      <td>1</td>\n",
       "      <td>1</td>\n",
       "      <td>2</td>\n",
       "      <td>2</td>\n",
       "      <td>20</td>\n",
       "      <td>76.421258</td>\n",
       "    </tr>\n",
       "    <tr>\n",
       "      <th>3</th>\n",
       "      <td>201800383118</td>\n",
       "      <td>4</td>\n",
       "      <td>56</td>\n",
       "      <td>209</td>\n",
       "      <td>209</td>\n",
       "      <td>1</td>\n",
       "      <td>10</td>\n",
       "      <td>2</td>\n",
       "      <td>2</td>\n",
       "      <td>0</td>\n",
       "      <td>...</td>\n",
       "      <td>6</td>\n",
       "      <td>0</td>\n",
       "      <td>2</td>\n",
       "      <td>1</td>\n",
       "      <td>10</td>\n",
       "      <td>1</td>\n",
       "      <td>1</td>\n",
       "      <td>2</td>\n",
       "      <td>20</td>\n",
       "      <td>265.232273</td>\n",
       "    </tr>\n",
       "    <tr>\n",
       "      <th>4</th>\n",
       "      <td>201800383942</td>\n",
       "      <td>4</td>\n",
       "      <td>64</td>\n",
       "      <td>306</td>\n",
       "      <td>64</td>\n",
       "      <td>1</td>\n",
       "      <td>6</td>\n",
       "      <td>2</td>\n",
       "      <td>2</td>\n",
       "      <td>0</td>\n",
       "      <td>...</td>\n",
       "      <td>7</td>\n",
       "      <td>0</td>\n",
       "      <td>1</td>\n",
       "      <td>1</td>\n",
       "      <td>10</td>\n",
       "      <td>1</td>\n",
       "      <td>1</td>\n",
       "      <td>2</td>\n",
       "      <td>23</td>\n",
       "      <td>78.134540</td>\n",
       "    </tr>\n",
       "  </tbody>\n",
       "</table>\n",
       "<p>5 rows × 51 columns</p>\n",
       "</div>"
      ],
      "text/plain": [
       "        CASENUM  REGION  PSU   PJ  PSU_VAR  URBANICITY  STRATUM  VE_TOTAL  \\\n",
       "0  201800381338       4   56  208      208           1        9         4   \n",
       "1  201800381366       4   56  214      214           1        7         3   \n",
       "2  201800381374       4   56  214      214           1        6         2   \n",
       "3  201800383118       4   56  209      209           1       10         2   \n",
       "4  201800383942       4   64  306       64           1        6         2   \n",
       "\n",
       "   VE_FORMS  PVH_INVL  ...  MANCOL_IM  RELJCT1_IM  RELJCT2_IM  LGTCON_IM  \\\n",
       "0         4         0  ...          1           0           1          1   \n",
       "1         3         0  ...          1           0           1          1   \n",
       "2         2         0  ...          7           0           1          2   \n",
       "3         2         0  ...          6           0           2          1   \n",
       "4         2         0  ...          7           0           1          1   \n",
       "\n",
       "   WEATHR_IM  MAXSEV_IM  NO_INJ_IM  ALCHL_IM  PSUSTRAT      WEIGHT  \n",
       "0          1          0          0         2        20  187.193308  \n",
       "1          1          1          1         2        20  149.787336  \n",
       "2          1          1          2         2        20   76.421258  \n",
       "3         10          1          1         2        20  265.232273  \n",
       "4         10          1          1         2        23   78.134540  \n",
       "\n",
       "[5 rows x 51 columns]"
      ]
     },
     "execution_count": 8,
     "metadata": {},
     "output_type": "execute_result"
    }
   ],
   "source": [
    "# Import the ACCIDENT.csv file as a DataFrame\n",
    "time_df = pd.read_csv(\"../Crash_TimeAnalysis/Resources/ACCIDENT.csv\")\n",
    "time_df.head()"
   ]
  },
  {
   "cell_type": "code",
   "execution_count": 9,
   "id": "c130be20",
   "metadata": {
    "scrolled": true
   },
   "outputs": [
    {
     "name": "stdout",
     "output_type": "stream",
     "text": [
      "<class 'pandas.core.frame.DataFrame'>\n",
      "RangeIndex: 48443 entries, 0 to 48442\n",
      "Data columns (total 51 columns):\n",
      " #   Column      Non-Null Count  Dtype  \n",
      "---  ------      --------------  -----  \n",
      " 0   CASENUM     48443 non-null  int64  \n",
      " 1   REGION      48443 non-null  int64  \n",
      " 2   PSU         48443 non-null  int64  \n",
      " 3   PJ          48443 non-null  int64  \n",
      " 4   PSU_VAR     48443 non-null  int64  \n",
      " 5   URBANICITY  48443 non-null  int64  \n",
      " 6   STRATUM     48443 non-null  int64  \n",
      " 7   VE_TOTAL    48443 non-null  int64  \n",
      " 8   VE_FORMS    48443 non-null  int64  \n",
      " 9   PVH_INVL    48443 non-null  int64  \n",
      " 10  PEDS        48443 non-null  int64  \n",
      " 11  PERMVIT     48443 non-null  int64  \n",
      " 12  PERNOTMVIT  48443 non-null  int64  \n",
      " 13  NUM_INJ     48443 non-null  int64  \n",
      " 14  MONTH       48443 non-null  int64  \n",
      " 15  YEAR        48443 non-null  int64  \n",
      " 16  DAY_WEEK    48443 non-null  int64  \n",
      " 17  HOUR        48443 non-null  int64  \n",
      " 18  MINUTE      48443 non-null  int64  \n",
      " 19  HARM_EV     48443 non-null  int64  \n",
      " 20  ALCOHOL     48443 non-null  int64  \n",
      " 21  MAX_SEV     48443 non-null  int64  \n",
      " 22  MAN_COLL    48443 non-null  int64  \n",
      " 23  RELJCT1     48443 non-null  int64  \n",
      " 24  RELJCT2     48443 non-null  int64  \n",
      " 25  TYP_INT     48443 non-null  int64  \n",
      " 26  WRK_ZONE    48443 non-null  int64  \n",
      " 27  REL_ROAD    48443 non-null  int64  \n",
      " 28  LGT_COND    48443 non-null  int64  \n",
      " 29  WEATHER1    48443 non-null  int64  \n",
      " 30  WEATHER2    48443 non-null  int64  \n",
      " 31  WEATHER     48443 non-null  int64  \n",
      " 32  SCH_BUS     48443 non-null  int64  \n",
      " 33  INT_HWY     48443 non-null  int64  \n",
      " 34  CF1         48443 non-null  int64  \n",
      " 35  CF2         48443 non-null  int64  \n",
      " 36  CF3         48443 non-null  int64  \n",
      " 37  WKDY_IM     48443 non-null  int64  \n",
      " 38  HOUR_IM     48443 non-null  int64  \n",
      " 39  MINUTE_IM   48443 non-null  int64  \n",
      " 40  EVENT1_IM   48443 non-null  int64  \n",
      " 41  MANCOL_IM   48443 non-null  int64  \n",
      " 42  RELJCT1_IM  48443 non-null  int64  \n",
      " 43  RELJCT2_IM  48443 non-null  int64  \n",
      " 44  LGTCON_IM   48443 non-null  int64  \n",
      " 45  WEATHR_IM   48443 non-null  int64  \n",
      " 46  MAXSEV_IM   48443 non-null  int64  \n",
      " 47  NO_INJ_IM   48443 non-null  int64  \n",
      " 48  ALCHL_IM    48443 non-null  int64  \n",
      " 49  PSUSTRAT    48443 non-null  int64  \n",
      " 50  WEIGHT      48443 non-null  float64\n",
      "dtypes: float64(1), int64(50)\n",
      "memory usage: 18.8 MB\n"
     ]
    }
   ],
   "source": [
    "# Access number of null values in dataframe\n",
    "time_df.info()"
   ]
  },
  {
   "cell_type": "code",
   "execution_count": 10,
   "id": "890de52b",
   "metadata": {},
   "outputs": [
    {
     "data": {
      "text/html": [
       "<div>\n",
       "<style scoped>\n",
       "    .dataframe tbody tr th:only-of-type {\n",
       "        vertical-align: middle;\n",
       "    }\n",
       "\n",
       "    .dataframe tbody tr th {\n",
       "        vertical-align: top;\n",
       "    }\n",
       "\n",
       "    .dataframe thead th {\n",
       "        text-align: right;\n",
       "    }\n",
       "</style>\n",
       "<table border=\"1\" class=\"dataframe\">\n",
       "  <thead>\n",
       "    <tr style=\"text-align: right;\">\n",
       "      <th></th>\n",
       "      <th>CASENUM</th>\n",
       "      <th>URBANICITY</th>\n",
       "      <th>NUM_INJ</th>\n",
       "      <th>MONTH</th>\n",
       "      <th>YEAR</th>\n",
       "      <th>DAY_WEEK</th>\n",
       "      <th>HOUR</th>\n",
       "      <th>WKDY_IM</th>\n",
       "      <th>HOUR_IM</th>\n",
       "    </tr>\n",
       "  </thead>\n",
       "  <tbody>\n",
       "    <tr>\n",
       "      <th>0</th>\n",
       "      <td>201800381338</td>\n",
       "      <td>1</td>\n",
       "      <td>0</td>\n",
       "      <td>1</td>\n",
       "      <td>2018</td>\n",
       "      <td>4</td>\n",
       "      <td>8</td>\n",
       "      <td>4</td>\n",
       "      <td>8</td>\n",
       "    </tr>\n",
       "    <tr>\n",
       "      <th>1</th>\n",
       "      <td>201800381366</td>\n",
       "      <td>1</td>\n",
       "      <td>1</td>\n",
       "      <td>1</td>\n",
       "      <td>2018</td>\n",
       "      <td>3</td>\n",
       "      <td>14</td>\n",
       "      <td>3</td>\n",
       "      <td>14</td>\n",
       "    </tr>\n",
       "    <tr>\n",
       "      <th>2</th>\n",
       "      <td>201800381374</td>\n",
       "      <td>1</td>\n",
       "      <td>2</td>\n",
       "      <td>1</td>\n",
       "      <td>2018</td>\n",
       "      <td>4</td>\n",
       "      <td>17</td>\n",
       "      <td>4</td>\n",
       "      <td>17</td>\n",
       "    </tr>\n",
       "    <tr>\n",
       "      <th>3</th>\n",
       "      <td>201800383118</td>\n",
       "      <td>1</td>\n",
       "      <td>0</td>\n",
       "      <td>1</td>\n",
       "      <td>2018</td>\n",
       "      <td>4</td>\n",
       "      <td>11</td>\n",
       "      <td>4</td>\n",
       "      <td>11</td>\n",
       "    </tr>\n",
       "    <tr>\n",
       "      <th>4</th>\n",
       "      <td>201800383942</td>\n",
       "      <td>1</td>\n",
       "      <td>1</td>\n",
       "      <td>1</td>\n",
       "      <td>2018</td>\n",
       "      <td>2</td>\n",
       "      <td>16</td>\n",
       "      <td>2</td>\n",
       "      <td>16</td>\n",
       "    </tr>\n",
       "    <tr>\n",
       "      <th>...</th>\n",
       "      <td>...</td>\n",
       "      <td>...</td>\n",
       "      <td>...</td>\n",
       "      <td>...</td>\n",
       "      <td>...</td>\n",
       "      <td>...</td>\n",
       "      <td>...</td>\n",
       "      <td>...</td>\n",
       "      <td>...</td>\n",
       "    </tr>\n",
       "    <tr>\n",
       "      <th>48438</th>\n",
       "      <td>201801402590</td>\n",
       "      <td>1</td>\n",
       "      <td>0</td>\n",
       "      <td>12</td>\n",
       "      <td>2018</td>\n",
       "      <td>2</td>\n",
       "      <td>8</td>\n",
       "      <td>2</td>\n",
       "      <td>8</td>\n",
       "    </tr>\n",
       "    <tr>\n",
       "      <th>48439</th>\n",
       "      <td>201801402620</td>\n",
       "      <td>1</td>\n",
       "      <td>2</td>\n",
       "      <td>12</td>\n",
       "      <td>2018</td>\n",
       "      <td>5</td>\n",
       "      <td>15</td>\n",
       "      <td>5</td>\n",
       "      <td>15</td>\n",
       "    </tr>\n",
       "    <tr>\n",
       "      <th>48440</th>\n",
       "      <td>201801402628</td>\n",
       "      <td>1</td>\n",
       "      <td>2</td>\n",
       "      <td>12</td>\n",
       "      <td>2018</td>\n",
       "      <td>7</td>\n",
       "      <td>17</td>\n",
       "      <td>7</td>\n",
       "      <td>17</td>\n",
       "    </tr>\n",
       "    <tr>\n",
       "      <th>48441</th>\n",
       "      <td>201801402629</td>\n",
       "      <td>1</td>\n",
       "      <td>2</td>\n",
       "      <td>12</td>\n",
       "      <td>2018</td>\n",
       "      <td>6</td>\n",
       "      <td>17</td>\n",
       "      <td>6</td>\n",
       "      <td>17</td>\n",
       "    </tr>\n",
       "    <tr>\n",
       "      <th>48442</th>\n",
       "      <td>201801402636</td>\n",
       "      <td>1</td>\n",
       "      <td>99</td>\n",
       "      <td>12</td>\n",
       "      <td>2018</td>\n",
       "      <td>3</td>\n",
       "      <td>99</td>\n",
       "      <td>3</td>\n",
       "      <td>9</td>\n",
       "    </tr>\n",
       "  </tbody>\n",
       "</table>\n",
       "<p>48443 rows × 9 columns</p>\n",
       "</div>"
      ],
      "text/plain": [
       "            CASENUM  URBANICITY  NUM_INJ  MONTH  YEAR  DAY_WEEK  HOUR  \\\n",
       "0      201800381338           1        0      1  2018         4     8   \n",
       "1      201800381366           1        1      1  2018         3    14   \n",
       "2      201800381374           1        2      1  2018         4    17   \n",
       "3      201800383118           1        0      1  2018         4    11   \n",
       "4      201800383942           1        1      1  2018         2    16   \n",
       "...             ...         ...      ...    ...   ...       ...   ...   \n",
       "48438  201801402590           1        0     12  2018         2     8   \n",
       "48439  201801402620           1        2     12  2018         5    15   \n",
       "48440  201801402628           1        2     12  2018         7    17   \n",
       "48441  201801402629           1        2     12  2018         6    17   \n",
       "48442  201801402636           1       99     12  2018         3    99   \n",
       "\n",
       "       WKDY_IM  HOUR_IM  \n",
       "0            4        8  \n",
       "1            3       14  \n",
       "2            4       17  \n",
       "3            4       11  \n",
       "4            2       16  \n",
       "...        ...      ...  \n",
       "48438        2        8  \n",
       "48439        5       15  \n",
       "48440        7       17  \n",
       "48441        6       17  \n",
       "48442        3        9  \n",
       "\n",
       "[48443 rows x 9 columns]"
      ]
     },
     "execution_count": 10,
     "metadata": {},
     "output_type": "execute_result"
    }
   ],
   "source": [
    "# Remove unecessary columns from the DataFrame and save the new DataFrame\n",
    "reduced_df = time_df[[\"CASENUM\", \"URBANICITY\", \"NUM_INJ\", \"MONTH\", \"YEAR\", \"DAY_WEEK\",\n",
    "                       \"HOUR\", \"WKDY_IM\", \"HOUR_IM\"]]\n",
    "reduced_df"
   ]
  },
  {
   "cell_type": "code",
   "execution_count": 11,
   "id": "68d713be",
   "metadata": {},
   "outputs": [
    {
     "name": "stderr",
     "output_type": "stream",
     "text": [
      "<ipython-input-11-5bf54dd5e22e>:1: SettingWithCopyWarning: \n",
      "A value is trying to be set on a copy of a slice from a DataFrame.\n",
      "Try using .loc[row_indexer,col_indexer] = value instead\n",
      "\n",
      "See the caveats in the documentation: https://pandas.pydata.org/pandas-docs/stable/user_guide/indexing.html#returning-a-view-versus-a-copy\n",
      "  reduced_df['NUM_INJ'] = reduced_df['NUM_INJ'].replace({0:'No Person Injured', 1:'One Person Injured',\n"
     ]
    },
    {
     "data": {
      "text/plain": [
       "0                                  No Person Injured\n",
       "1                                 One Person Injured\n",
       "2                                 Two People Injured\n",
       "3                                  No Person Injured\n",
       "4                                 One Person Injured\n",
       "                            ...                     \n",
       "48438                              No Person Injured\n",
       "48439                             Two People Injured\n",
       "48440                             Two People Injured\n",
       "48441                             Two People Injured\n",
       "48442    All Persons in Crash are Unknown if Injured\n",
       "Name: NUM_INJ, Length: 48443, dtype: object"
      ]
     },
     "execution_count": 11,
     "metadata": {},
     "output_type": "execute_result"
    }
   ],
   "source": [
    "reduced_df['NUM_INJ'] = reduced_df['NUM_INJ'].replace({0:'No Person Injured', 1:'One Person Injured', \n",
    "                                                        2:'Two People Injured', 3:'Three People Injured',\n",
    "                                                        4:'Four People Injured', 5:'Five People Injured',\n",
    "                                                        6:'Six People Injured', 7:'Seven People Injured',\n",
    "                                                        8:'Eight People Injured', 9:'Nine People Injured',\n",
    "                                                        10:'Ten People Injured', 11:'Eleven People Injured',\n",
    "                                                        12:'Twelve People Injured', 17:'Seventeen People Injured',\n",
    "                                                        98: 'No Person Involved in the Crash', \n",
    "                                                        99: 'All Persons in Crash are Unknown if Injured'})\n",
    "\n",
    "reduced_df['NUM_INJ']"
   ]
  },
  {
   "cell_type": "code",
   "execution_count": 12,
   "id": "f31c6904",
   "metadata": {},
   "outputs": [
    {
     "name": "stderr",
     "output_type": "stream",
     "text": [
      "<ipython-input-12-d4430200f8a9>:1: SettingWithCopyWarning: \n",
      "A value is trying to be set on a copy of a slice from a DataFrame.\n",
      "Try using .loc[row_indexer,col_indexer] = value instead\n",
      "\n",
      "See the caveats in the documentation: https://pandas.pydata.org/pandas-docs/stable/user_guide/indexing.html#returning-a-view-versus-a-copy\n",
      "  reduced_df['URBANICITY'] = reduced_df['URBANICITY'].replace({1:'Urban', 2:'Rural'})\n"
     ]
    },
    {
     "data": {
      "text/plain": [
       "0        Urban\n",
       "1        Urban\n",
       "2        Urban\n",
       "3        Urban\n",
       "4        Urban\n",
       "         ...  \n",
       "48438    Urban\n",
       "48439    Urban\n",
       "48440    Urban\n",
       "48441    Urban\n",
       "48442    Urban\n",
       "Name: URBANICITY, Length: 48443, dtype: object"
      ]
     },
     "execution_count": 12,
     "metadata": {},
     "output_type": "execute_result"
    }
   ],
   "source": [
    "reduced_df['URBANICITY'] = reduced_df['URBANICITY'].replace({1:'Urban', 2:'Rural'})\n",
    "reduced_df['URBANICITY']"
   ]
  },
  {
   "cell_type": "code",
   "execution_count": 13,
   "id": "ae536cc6",
   "metadata": {},
   "outputs": [
    {
     "name": "stdout",
     "output_type": "stream",
     "text": [
      "<class 'pandas.core.frame.DataFrame'>\n",
      "RangeIndex: 48443 entries, 0 to 48442\n",
      "Data columns (total 9 columns):\n",
      " #   Column      Non-Null Count  Dtype \n",
      "---  ------      --------------  ----- \n",
      " 0   CASENUM     48443 non-null  int64 \n",
      " 1   URBANICITY  48443 non-null  object\n",
      " 2   NUM_INJ     48443 non-null  object\n",
      " 3   MONTH       48443 non-null  int64 \n",
      " 4   YEAR        48443 non-null  int64 \n",
      " 5   DAY_WEEK    48443 non-null  int64 \n",
      " 6   HOUR        48443 non-null  int64 \n",
      " 7   WKDY_IM     48443 non-null  int64 \n",
      " 8   HOUR_IM     48443 non-null  int64 \n",
      "dtypes: int64(7), object(2)\n",
      "memory usage: 3.3+ MB\n"
     ]
    }
   ],
   "source": [
    "reduced_df.info()"
   ]
  },
  {
   "cell_type": "code",
   "execution_count": 14,
   "id": "f3710025",
   "metadata": {},
   "outputs": [
    {
     "data": {
      "text/html": [
       "<div>\n",
       "<style scoped>\n",
       "    .dataframe tbody tr th:only-of-type {\n",
       "        vertical-align: middle;\n",
       "    }\n",
       "\n",
       "    .dataframe tbody tr th {\n",
       "        vertical-align: top;\n",
       "    }\n",
       "\n",
       "    .dataframe thead th {\n",
       "        text-align: right;\n",
       "    }\n",
       "</style>\n",
       "<table border=\"1\" class=\"dataframe\">\n",
       "  <thead>\n",
       "    <tr style=\"text-align: right;\">\n",
       "      <th></th>\n",
       "      <th>CASENUM</th>\n",
       "      <th>MONTH</th>\n",
       "      <th>YEAR</th>\n",
       "      <th>DAY_WEEK</th>\n",
       "      <th>HOUR</th>\n",
       "      <th>WKDY_IM</th>\n",
       "      <th>HOUR_IM</th>\n",
       "    </tr>\n",
       "  </thead>\n",
       "  <tbody>\n",
       "    <tr>\n",
       "      <th>count</th>\n",
       "      <td>4.844300e+04</td>\n",
       "      <td>48443.000000</td>\n",
       "      <td>48443.0</td>\n",
       "      <td>48443.000000</td>\n",
       "      <td>48443.000000</td>\n",
       "      <td>48443.000000</td>\n",
       "      <td>48443.000000</td>\n",
       "    </tr>\n",
       "    <tr>\n",
       "      <th>mean</th>\n",
       "      <td>2.018009e+11</td>\n",
       "      <td>6.632764</td>\n",
       "      <td>2018.0</td>\n",
       "      <td>4.116859</td>\n",
       "      <td>13.707718</td>\n",
       "      <td>4.116859</td>\n",
       "      <td>13.302087</td>\n",
       "    </tr>\n",
       "    <tr>\n",
       "      <th>std</th>\n",
       "      <td>2.381253e+05</td>\n",
       "      <td>3.447666</td>\n",
       "      <td>0.0</td>\n",
       "      <td>1.903722</td>\n",
       "      <td>7.965483</td>\n",
       "      <td>1.903722</td>\n",
       "      <td>5.392093</td>\n",
       "    </tr>\n",
       "    <tr>\n",
       "      <th>min</th>\n",
       "      <td>2.018004e+11</td>\n",
       "      <td>1.000000</td>\n",
       "      <td>2018.0</td>\n",
       "      <td>1.000000</td>\n",
       "      <td>0.000000</td>\n",
       "      <td>1.000000</td>\n",
       "      <td>0.000000</td>\n",
       "    </tr>\n",
       "    <tr>\n",
       "      <th>25%</th>\n",
       "      <td>2.018007e+11</td>\n",
       "      <td>4.000000</td>\n",
       "      <td>2018.0</td>\n",
       "      <td>2.000000</td>\n",
       "      <td>9.000000</td>\n",
       "      <td>2.000000</td>\n",
       "      <td>9.000000</td>\n",
       "    </tr>\n",
       "    <tr>\n",
       "      <th>50%</th>\n",
       "      <td>2.018009e+11</td>\n",
       "      <td>7.000000</td>\n",
       "      <td>2018.0</td>\n",
       "      <td>4.000000</td>\n",
       "      <td>14.000000</td>\n",
       "      <td>4.000000</td>\n",
       "      <td>14.000000</td>\n",
       "    </tr>\n",
       "    <tr>\n",
       "      <th>75%</th>\n",
       "      <td>2.018011e+11</td>\n",
       "      <td>10.000000</td>\n",
       "      <td>2018.0</td>\n",
       "      <td>6.000000</td>\n",
       "      <td>17.000000</td>\n",
       "      <td>6.000000</td>\n",
       "      <td>17.000000</td>\n",
       "    </tr>\n",
       "    <tr>\n",
       "      <th>max</th>\n",
       "      <td>2.018014e+11</td>\n",
       "      <td>12.000000</td>\n",
       "      <td>2018.0</td>\n",
       "      <td>7.000000</td>\n",
       "      <td>99.000000</td>\n",
       "      <td>7.000000</td>\n",
       "      <td>23.000000</td>\n",
       "    </tr>\n",
       "  </tbody>\n",
       "</table>\n",
       "</div>"
      ],
      "text/plain": [
       "            CASENUM         MONTH     YEAR      DAY_WEEK          HOUR  \\\n",
       "count  4.844300e+04  48443.000000  48443.0  48443.000000  48443.000000   \n",
       "mean   2.018009e+11      6.632764   2018.0      4.116859     13.707718   \n",
       "std    2.381253e+05      3.447666      0.0      1.903722      7.965483   \n",
       "min    2.018004e+11      1.000000   2018.0      1.000000      0.000000   \n",
       "25%    2.018007e+11      4.000000   2018.0      2.000000      9.000000   \n",
       "50%    2.018009e+11      7.000000   2018.0      4.000000     14.000000   \n",
       "75%    2.018011e+11     10.000000   2018.0      6.000000     17.000000   \n",
       "max    2.018014e+11     12.000000   2018.0      7.000000     99.000000   \n",
       "\n",
       "            WKDY_IM       HOUR_IM  \n",
       "count  48443.000000  48443.000000  \n",
       "mean       4.116859     13.302087  \n",
       "std        1.903722      5.392093  \n",
       "min        1.000000      0.000000  \n",
       "25%        2.000000      9.000000  \n",
       "50%        4.000000     14.000000  \n",
       "75%        6.000000     17.000000  \n",
       "max        7.000000     23.000000  "
      ]
     },
     "execution_count": 14,
     "metadata": {},
     "output_type": "execute_result"
    }
   ],
   "source": [
    "reduced_df.describe()"
   ]
  },
  {
   "cell_type": "code",
   "execution_count": 22,
   "id": "d30ed0fa",
   "metadata": {},
   "outputs": [
    {
     "data": {
      "image/png": "[encoded data removed]",
      "text/plain": [
       "<Figure size 720x360 with 1 Axes>"
      ]
     },
     "metadata": {
      "needs_background": "light"
     },
     "output_type": "display_data"
    },
    {
     "data": {
      "text/plain": [
       "<Figure size 432x288 with 0 Axes>"
      ]
     },
     "metadata": {},
     "output_type": "display_data"
    }
   ],
   "source": [
    "# Generate a bar plot showing the total case numbers per month using Pandas\n",
    "month = reduced_df.groupby(['MONTH']).count()['CASENUM']\n",
    "\n",
    "my_colors = [\"#FF0000\", \"#00FF00\", \"#9A0EEA\", \"#FF796C\", \"#7E1E9C\", \"#580F41\", \"#C875C4\", \"#F97306\", \"#650021\", \"#C20078\", \"#C79FEF\", \"#380282\"]\n",
    "\n",
    "month.plot.bar(figsize=(10,5), color=my_colors)\n",
    "\n",
    "positions = (0, 1, 2, 3, 4, 5, 6, 7, 8, 9, 10, 11)\n",
    "labels = (\"January\", \"February\", \"March\", \"April\", \"May\", \"June\", \"July\", \"August\", \"September\", \"October\",  \n",
    "           \"November\", \"December\")\n",
    "plt.xticks(positions, labels)\n",
    "\n",
    "plt.title(\"Bar Plot - Total case numbers per month\")\n",
    "plt.xlabel(\"Months (1-Jan, 12-Dec)\")\n",
    "plt.ylabel(\"Count of cases\")\n",
    "\n",
    "plt.show()\n",
    "plt.tight_layout()"
   ]
  },
  {
   "cell_type": "code",
   "execution_count": 23,
   "id": "9277d51e",
   "metadata": {},
   "outputs": [
    {
     "data": {
      "image/png": "[encoded data removed]",
      "text/plain": [
       "<Figure size 720x360 with 1 Axes>"
      ]
     },
     "metadata": {
      "needs_background": "light"
     },
     "output_type": "display_data"
    },
    {
     "data": {
      "text/plain": [
       "<Figure size 432x288 with 0 Axes>"
      ]
     },
     "metadata": {},
     "output_type": "display_data"
    }
   ],
   "source": [
    "# Generate a bar plot showing the total case numbers per month using Pandas\n",
    "day = reduced_df.groupby(['WKDY_IM']).count()['CASENUM']\n",
    "\n",
    "day.plot(kind=\"bar\", figsize=(10,5), color=my_colors)\n",
    "\n",
    "positions = (0, 1, 2, 3, 4, 5, 6)\n",
    "labels = (\"Sunday\", \"Monday\", \"Tuesday\", \"Wednesday\", \"Thursday\", \"Friday\", \"Saturday\")\n",
    "plt.xticks(positions, labels)\n",
    "\n",
    "plt.title(\"Bar Plot - Total case numbers per day\")\n",
    "plt.xlabel(\"Day of Week (1-Sunday, 7-Saturday)\")\n",
    "plt.ylabel(\"Count of cases\")\n",
    "\n",
    "plt.show()\n",
    "plt.tight_layout()"
   ]
  },
  {
   "cell_type": "code",
   "execution_count": 14,
   "id": "99567606",
   "metadata": {},
   "outputs": [
    {
     "data": {
      "image/png": "[encoded data removed]",
      "text/plain": [
       "<Figure size 720x360 with 1 Axes>"
      ]
     },
     "metadata": {
      "needs_background": "light"
     },
     "output_type": "display_data"
    },
    {
     "data": {
      "text/plain": [
       "<Figure size 432x288 with 0 Axes>"
      ]
     },
     "metadata": {},
     "output_type": "display_data"
    }
   ],
   "source": [
    "# Generate a bar plot showing the total case numbers per month using Pandas\n",
    "hour = reduced_df.groupby(['HOUR_IM']).count()['CASENUM']\n",
    "\n",
    "hour.plot.bar(figsize=(10,5), color=my_colors)\n",
    "\n",
    "plt.title(\"Bar Plot - Total case numbers per hour\")\n",
    "plt.xlabel(\"Hours\")\n",
    "plt.ylabel(\"Count of cases\")\n",
    "\n",
    "plt.show()\n",
    "plt.tight_layout()"
   ]
  },
  {
   "cell_type": "code",
   "execution_count": 15,
   "id": "0994293c",
   "metadata": {},
   "outputs": [
    {
     "data": {
      "text/plain": [
       "NUM_INJ\n",
       "All Persons in Crash are Unknown if Injured      738\n",
       "Eight People Injured                              16\n",
       "Eleven People Injured                              2\n",
       "Five People Injured                              192\n",
       "Four People Injured                              497\n",
       "Nine People Injured                               10\n",
       "No Person Injured                              24356\n",
       "No Person Involved in the Crash                   17\n",
       "One Person Injured                             16508\n",
       "Seven People Injured                              45\n",
       "Seventeen People Injured                           1\n",
       "Six People Injured                                93\n",
       "Ten People Injured                                 2\n",
       "Three People Injured                            1393\n",
       "Twelve People Injured                              2\n",
       "Two People Injured                              4571\n",
       "Name: CASENUM, dtype: int64"
      ]
     },
     "execution_count": 15,
     "metadata": {},
     "output_type": "execute_result"
    }
   ],
   "source": [
    "num_inj = reduced_df.groupby([\"NUM_INJ\"]).count()['CASENUM']\n",
    "num_inj"
   ]
  },
  {
   "cell_type": "code",
   "execution_count": 25,
   "id": "82e43fd5",
   "metadata": {
    "scrolled": true
   },
   "outputs": [
    {
     "data": {
      "image/png": "[encoded data removed]",
      "text/plain": [
       "<Figure size 720x360 with 1 Axes>"
      ]
     },
     "metadata": {
      "needs_background": "light"
     },
     "output_type": "display_data"
    },
    {
     "data": {
      "text/plain": [
       "<Figure size 432x288 with 0 Axes>"
      ]
     },
     "metadata": {},
     "output_type": "display_data"
    }
   ],
   "source": [
    "counts_month = reduced_df.groupby(['MONTH', \"URBANICITY\"]).count()[\"CASENUM\"]\n",
    "\n",
    "my_color = [\"#FF0000\", \"#0000FF\"]\n",
    "counts_month.plot.bar(figsize=(10,5), color=my_color)\n",
    "\n",
    "plt.title(\"Bar Plot - Total case numbers per month per urbanicity\")\n",
    "plt.xlabel(\"Months by Urbanicity\")\n",
    "plt.ylabel(\"Count of cases\")\n",
    "\n",
    "plt.show()\n",
    "plt.tight_layout()"
   ]
  },
  {
   "cell_type": "code",
   "execution_count": 17,
   "id": "833b9817",
   "metadata": {},
   "outputs": [
    {
     "data": {
      "image/png": "[encoded data removed]",
      "text/plain": [
       "<Figure size 720x360 with 1 Axes>"
      ]
     },
     "metadata": {
      "needs_background": "light"
     },
     "output_type": "display_data"
    },
    {
     "data": {
      "text/plain": [
       "<Figure size 432x288 with 0 Axes>"
      ]
     },
     "metadata": {},
     "output_type": "display_data"
    }
   ],
   "source": [
    "counts_day = reduced_df.groupby(['WKDY_IM', \"URBANICITY\"]).count()[\"CASENUM\"]\n",
    "\n",
    "counts_day.plot.bar(figsize=(10,5), color=my_color)\n",
    "\n",
    "plt.title(\"Bar Plot - Total case numbers per day per urbanicity\")\n",
    "plt.xlabel(\"Days\")\n",
    "plt.ylabel(\"Count of cases\")\n",
    "\n",
    "plt.show()\n",
    "plt.tight_layout()"
   ]
  },
  {
   "cell_type": "code",
   "execution_count": 18,
   "id": "740b59c0",
   "metadata": {},
   "outputs": [
    {
     "data": {
      "image/png": "[encoded data removed]",
      "text/plain": [
       "<Figure size 720x360 with 1 Axes>"
      ]
     },
     "metadata": {
      "needs_background": "light"
     },
     "output_type": "display_data"
    },
    {
     "data": {
      "text/plain": [
       "<Figure size 432x288 with 0 Axes>"
      ]
     },
     "metadata": {},
     "output_type": "display_data"
    }
   ],
   "source": [
    "counts_hour = reduced_df.groupby(['HOUR_IM', \"URBANICITY\"]).count()[\"CASENUM\"]\n",
    "\n",
    "counts_hour.plot.bar(figsize=(10,5), color=my_color)\n",
    "\n",
    "plt.title(\"Bar Plot - Total case numbers per hour per urbanicity\")\n",
    "plt.xlabel(\"Hours\")\n",
    "plt.ylabel(\"Count of cases\")\n",
    "\n",
    "plt.show()\n",
    "plt.tight_layout()"
   ]
  }
 ],
 "metadata": {
  "kernelspec": {
   "display_name": "Python 3",
   "language": "python",
   "name": "python3"
  },
  "language_info": {
   "codemirror_mode": {
    "name": "ipython",
    "version": 3
   },
   "file_extension": ".py",
   "mimetype": "text/x-python",
   "name": "python",
   "nbconvert_exporter": "python",
   "pygments_lexer": "ipython3",
   "version": "3.8.8"
  }
 },
 "nbformat": 4,
 "nbformat_minor": 5
}
