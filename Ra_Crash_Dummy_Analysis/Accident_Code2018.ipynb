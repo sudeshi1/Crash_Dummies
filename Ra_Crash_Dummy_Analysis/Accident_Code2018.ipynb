{
 "cells": [
  {
   "cell_type": "code",
   "execution_count": 1,
   "metadata": {},
   "outputs": [],
   "source": [
    "import pandas as pd\n",
    "import numpy as np\n",
    "import matplotlib.pyplot as plt\n",
    "import os\n",
    "import csv\n",
    "\n",
    "csvpath = os.path.join('2018_Crash_Information','ACCIDENT.csv')\n",
    "\n"
   ]
  },
  {
   "cell_type": "code",
   "execution_count": 2,
   "metadata": {},
   "outputs": [],
   "source": [
    "accident_df = pd.read_csv('/Users/raishandrews/Desktop/Crash_Dummy/2018_Crash_Information/ACCIDENT.csv')"
   ]
  },
  {
   "cell_type": "code",
   "execution_count": 34,
   "metadata": {},
   "outputs": [],
   "source": [
    "with open(csvpath) as csvfile:\n",
    "    csvreader = csv.reader(csvfile, delimiter=\",\")\n",
    "    csv_header = next(csvreader)\n",
    "#     print(f\"CSV Header: {csv_header}\")\n",
    "#     for row in csvreader:\n",
    "#         print(row)    "
   ]
  },
  {
   "cell_type": "code",
   "execution_count": 35,
   "metadata": {
    "scrolled": true
   },
   "outputs": [
    {
     "data": {
      "text/html": [
       "<div>\n",
       "<style scoped>\n",
       "    .dataframe tbody tr th:only-of-type {\n",
       "        vertical-align: middle;\n",
       "    }\n",
       "\n",
       "    .dataframe tbody tr th {\n",
       "        vertical-align: top;\n",
       "    }\n",
       "\n",
       "    .dataframe thead th {\n",
       "        text-align: right;\n",
       "    }\n",
       "</style>\n",
       "<table border=\"1\" class=\"dataframe\">\n",
       "  <thead>\n",
       "    <tr style=\"text-align: right;\">\n",
       "      <th></th>\n",
       "      <th>CASENUM</th>\n",
       "      <th>REGION</th>\n",
       "      <th>PSU</th>\n",
       "      <th>PJ</th>\n",
       "      <th>PSU_VAR</th>\n",
       "      <th>URBANICITY</th>\n",
       "      <th>STRATUM</th>\n",
       "      <th>VE_TOTAL</th>\n",
       "      <th>VE_FORMS</th>\n",
       "      <th>PVH_INVL</th>\n",
       "      <th>...</th>\n",
       "      <th>MANCOL_IM</th>\n",
       "      <th>RELJCT1_IM</th>\n",
       "      <th>RELJCT2_IM</th>\n",
       "      <th>LGTCON_IM</th>\n",
       "      <th>WEATHR_IM</th>\n",
       "      <th>MAXSEV_IM</th>\n",
       "      <th>NO_INJ_IM</th>\n",
       "      <th>ALCHL_IM</th>\n",
       "      <th>PSUSTRAT</th>\n",
       "      <th>WEIGHT</th>\n",
       "    </tr>\n",
       "  </thead>\n",
       "  <tbody>\n",
       "    <tr>\n",
       "      <th>0</th>\n",
       "      <td>201800381338</td>\n",
       "      <td>4</td>\n",
       "      <td>56</td>\n",
       "      <td>208</td>\n",
       "      <td>208</td>\n",
       "      <td>1</td>\n",
       "      <td>9</td>\n",
       "      <td>4</td>\n",
       "      <td>4</td>\n",
       "      <td>0</td>\n",
       "      <td>...</td>\n",
       "      <td>1</td>\n",
       "      <td>0</td>\n",
       "      <td>1</td>\n",
       "      <td>1</td>\n",
       "      <td>1</td>\n",
       "      <td>0</td>\n",
       "      <td>0</td>\n",
       "      <td>2</td>\n",
       "      <td>20</td>\n",
       "      <td>187.193308</td>\n",
       "    </tr>\n",
       "    <tr>\n",
       "      <th>1</th>\n",
       "      <td>201800381366</td>\n",
       "      <td>4</td>\n",
       "      <td>56</td>\n",
       "      <td>214</td>\n",
       "      <td>214</td>\n",
       "      <td>1</td>\n",
       "      <td>7</td>\n",
       "      <td>3</td>\n",
       "      <td>3</td>\n",
       "      <td>0</td>\n",
       "      <td>...</td>\n",
       "      <td>1</td>\n",
       "      <td>0</td>\n",
       "      <td>1</td>\n",
       "      <td>1</td>\n",
       "      <td>1</td>\n",
       "      <td>1</td>\n",
       "      <td>1</td>\n",
       "      <td>2</td>\n",
       "      <td>20</td>\n",
       "      <td>149.787336</td>\n",
       "    </tr>\n",
       "    <tr>\n",
       "      <th>2</th>\n",
       "      <td>201800381374</td>\n",
       "      <td>4</td>\n",
       "      <td>56</td>\n",
       "      <td>214</td>\n",
       "      <td>214</td>\n",
       "      <td>1</td>\n",
       "      <td>6</td>\n",
       "      <td>2</td>\n",
       "      <td>2</td>\n",
       "      <td>0</td>\n",
       "      <td>...</td>\n",
       "      <td>7</td>\n",
       "      <td>0</td>\n",
       "      <td>1</td>\n",
       "      <td>2</td>\n",
       "      <td>1</td>\n",
       "      <td>1</td>\n",
       "      <td>2</td>\n",
       "      <td>2</td>\n",
       "      <td>20</td>\n",
       "      <td>76.421258</td>\n",
       "    </tr>\n",
       "    <tr>\n",
       "      <th>3</th>\n",
       "      <td>201800383118</td>\n",
       "      <td>4</td>\n",
       "      <td>56</td>\n",
       "      <td>209</td>\n",
       "      <td>209</td>\n",
       "      <td>1</td>\n",
       "      <td>10</td>\n",
       "      <td>2</td>\n",
       "      <td>2</td>\n",
       "      <td>0</td>\n",
       "      <td>...</td>\n",
       "      <td>6</td>\n",
       "      <td>0</td>\n",
       "      <td>2</td>\n",
       "      <td>1</td>\n",
       "      <td>10</td>\n",
       "      <td>1</td>\n",
       "      <td>1</td>\n",
       "      <td>2</td>\n",
       "      <td>20</td>\n",
       "      <td>265.232273</td>\n",
       "    </tr>\n",
       "    <tr>\n",
       "      <th>4</th>\n",
       "      <td>201800383942</td>\n",
       "      <td>4</td>\n",
       "      <td>64</td>\n",
       "      <td>306</td>\n",
       "      <td>64</td>\n",
       "      <td>1</td>\n",
       "      <td>6</td>\n",
       "      <td>2</td>\n",
       "      <td>2</td>\n",
       "      <td>0</td>\n",
       "      <td>...</td>\n",
       "      <td>7</td>\n",
       "      <td>0</td>\n",
       "      <td>1</td>\n",
       "      <td>1</td>\n",
       "      <td>10</td>\n",
       "      <td>1</td>\n",
       "      <td>1</td>\n",
       "      <td>2</td>\n",
       "      <td>23</td>\n",
       "      <td>78.134540</td>\n",
       "    </tr>\n",
       "  </tbody>\n",
       "</table>\n",
       "<p>5 rows × 51 columns</p>\n",
       "</div>"
      ],
      "text/plain": [
       "        CASENUM  REGION  PSU   PJ  PSU_VAR  URBANICITY  STRATUM  VE_TOTAL  \\\n",
       "0  201800381338       4   56  208      208           1        9         4   \n",
       "1  201800381366       4   56  214      214           1        7         3   \n",
       "2  201800381374       4   56  214      214           1        6         2   \n",
       "3  201800383118       4   56  209      209           1       10         2   \n",
       "4  201800383942       4   64  306       64           1        6         2   \n",
       "\n",
       "   VE_FORMS  PVH_INVL  ...  MANCOL_IM  RELJCT1_IM  RELJCT2_IM  LGTCON_IM  \\\n",
       "0         4         0  ...          1           0           1          1   \n",
       "1         3         0  ...          1           0           1          1   \n",
       "2         2         0  ...          7           0           1          2   \n",
       "3         2         0  ...          6           0           2          1   \n",
       "4         2         0  ...          7           0           1          1   \n",
       "\n",
       "   WEATHR_IM  MAXSEV_IM  NO_INJ_IM  ALCHL_IM  PSUSTRAT      WEIGHT  \n",
       "0          1          0          0         2        20  187.193308  \n",
       "1          1          1          1         2        20  149.787336  \n",
       "2          1          1          2         2        20   76.421258  \n",
       "3         10          1          1         2        20  265.232273  \n",
       "4         10          1          1         2        23   78.134540  \n",
       "\n",
       "[5 rows x 51 columns]"
      ]
     },
     "execution_count": 35,
     "metadata": {},
     "output_type": "execute_result"
    }
   ],
   "source": [
    "accident_df.head()"
   ]
  },
  {
   "cell_type": "code",
   "execution_count": 36,
   "metadata": {},
   "outputs": [
    {
     "data": {
      "text/html": [
       "<div>\n",
       "<style scoped>\n",
       "    .dataframe tbody tr th:only-of-type {\n",
       "        vertical-align: middle;\n",
       "    }\n",
       "\n",
       "    .dataframe tbody tr th {\n",
       "        vertical-align: top;\n",
       "    }\n",
       "\n",
       "    .dataframe thead th {\n",
       "        text-align: right;\n",
       "    }\n",
       "</style>\n",
       "<table border=\"1\" class=\"dataframe\">\n",
       "  <thead>\n",
       "    <tr style=\"text-align: right;\">\n",
       "      <th></th>\n",
       "      <th>CASENUM</th>\n",
       "      <th>REGION</th>\n",
       "      <th>PSU</th>\n",
       "      <th>PJ</th>\n",
       "      <th>PSU_VAR</th>\n",
       "      <th>URBANICITY</th>\n",
       "      <th>STRATUM</th>\n",
       "      <th>VE_TOTAL</th>\n",
       "      <th>VE_FORMS</th>\n",
       "      <th>PVH_INVL</th>\n",
       "      <th>...</th>\n",
       "      <th>MANCOL_IM</th>\n",
       "      <th>RELJCT1_IM</th>\n",
       "      <th>RELJCT2_IM</th>\n",
       "      <th>LGTCON_IM</th>\n",
       "      <th>WEATHR_IM</th>\n",
       "      <th>MAXSEV_IM</th>\n",
       "      <th>NO_INJ_IM</th>\n",
       "      <th>ALCHL_IM</th>\n",
       "      <th>PSUSTRAT</th>\n",
       "      <th>WEIGHT</th>\n",
       "    </tr>\n",
       "  </thead>\n",
       "  <tbody>\n",
       "    <tr>\n",
       "      <th>count</th>\n",
       "      <td>4.844300e+04</td>\n",
       "      <td>48443.000000</td>\n",
       "      <td>48443.000000</td>\n",
       "      <td>48443.000000</td>\n",
       "      <td>48443.000000</td>\n",
       "      <td>48443.000000</td>\n",
       "      <td>48443.000000</td>\n",
       "      <td>48443.000000</td>\n",
       "      <td>48443.000000</td>\n",
       "      <td>48443.000000</td>\n",
       "      <td>...</td>\n",
       "      <td>48443.000000</td>\n",
       "      <td>48443.000000</td>\n",
       "      <td>48443.000000</td>\n",
       "      <td>48443.000000</td>\n",
       "      <td>48443.000000</td>\n",
       "      <td>48443.000000</td>\n",
       "      <td>48443.000000</td>\n",
       "      <td>48443.000000</td>\n",
       "      <td>48443.000000</td>\n",
       "      <td>48443.000000</td>\n",
       "    </tr>\n",
       "    <tr>\n",
       "      <th>mean</th>\n",
       "      <td>2.018009e+11</td>\n",
       "      <td>2.713436</td>\n",
       "      <td>48.036311</td>\n",
       "      <td>1385.060628</td>\n",
       "      <td>52.416985</td>\n",
       "      <td>1.218174</td>\n",
       "      <td>7.296431</td>\n",
       "      <td>1.830646</td>\n",
       "      <td>1.777450</td>\n",
       "      <td>0.053197</td>\n",
       "      <td>...</td>\n",
       "      <td>2.607580</td>\n",
       "      <td>0.035382</td>\n",
       "      <td>2.562434</td>\n",
       "      <td>1.595194</td>\n",
       "      <td>2.602729</td>\n",
       "      <td>0.920236</td>\n",
       "      <td>0.721157</td>\n",
       "      <td>1.948042</td>\n",
       "      <td>12.380571</td>\n",
       "      <td>139.017326</td>\n",
       "    </tr>\n",
       "    <tr>\n",
       "      <th>std</th>\n",
       "      <td>2.381253e+05</td>\n",
       "      <td>0.906444</td>\n",
       "      <td>19.678810</td>\n",
       "      <td>1064.697585</td>\n",
       "      <td>33.159322</td>\n",
       "      <td>0.413010</td>\n",
       "      <td>2.508255</td>\n",
       "      <td>0.648344</td>\n",
       "      <td>0.644722</td>\n",
       "      <td>0.275018</td>\n",
       "      <td>...</td>\n",
       "      <td>2.918827</td>\n",
       "      <td>0.184745</td>\n",
       "      <td>2.820116</td>\n",
       "      <td>1.031158</td>\n",
       "      <td>3.246031</td>\n",
       "      <td>1.146145</td>\n",
       "      <td>0.968470</td>\n",
       "      <td>0.221944</td>\n",
       "      <td>6.333932</td>\n",
       "      <td>78.195337</td>\n",
       "    </tr>\n",
       "    <tr>\n",
       "      <th>min</th>\n",
       "      <td>2.018004e+11</td>\n",
       "      <td>1.000000</td>\n",
       "      <td>10.000000</td>\n",
       "      <td>45.000000</td>\n",
       "      <td>10.000000</td>\n",
       "      <td>1.000000</td>\n",
       "      <td>2.000000</td>\n",
       "      <td>1.000000</td>\n",
       "      <td>1.000000</td>\n",
       "      <td>0.000000</td>\n",
       "      <td>...</td>\n",
       "      <td>0.000000</td>\n",
       "      <td>0.000000</td>\n",
       "      <td>1.000000</td>\n",
       "      <td>1.000000</td>\n",
       "      <td>1.000000</td>\n",
       "      <td>0.000000</td>\n",
       "      <td>0.000000</td>\n",
       "      <td>1.000000</td>\n",
       "      <td>1.000000</td>\n",
       "      <td>12.086423</td>\n",
       "    </tr>\n",
       "    <tr>\n",
       "      <th>25%</th>\n",
       "      <td>2.018007e+11</td>\n",
       "      <td>2.000000</td>\n",
       "      <td>32.000000</td>\n",
       "      <td>456.000000</td>\n",
       "      <td>32.000000</td>\n",
       "      <td>1.000000</td>\n",
       "      <td>6.000000</td>\n",
       "      <td>1.000000</td>\n",
       "      <td>1.000000</td>\n",
       "      <td>0.000000</td>\n",
       "      <td>...</td>\n",
       "      <td>0.000000</td>\n",
       "      <td>0.000000</td>\n",
       "      <td>1.000000</td>\n",
       "      <td>1.000000</td>\n",
       "      <td>1.000000</td>\n",
       "      <td>0.000000</td>\n",
       "      <td>0.000000</td>\n",
       "      <td>2.000000</td>\n",
       "      <td>8.000000</td>\n",
       "      <td>67.781649</td>\n",
       "    </tr>\n",
       "    <tr>\n",
       "      <th>50%</th>\n",
       "      <td>2.018009e+11</td>\n",
       "      <td>3.000000</td>\n",
       "      <td>48.000000</td>\n",
       "      <td>1098.000000</td>\n",
       "      <td>48.000000</td>\n",
       "      <td>1.000000</td>\n",
       "      <td>8.000000</td>\n",
       "      <td>2.000000</td>\n",
       "      <td>2.000000</td>\n",
       "      <td>0.000000</td>\n",
       "      <td>...</td>\n",
       "      <td>1.000000</td>\n",
       "      <td>0.000000</td>\n",
       "      <td>2.000000</td>\n",
       "      <td>1.000000</td>\n",
       "      <td>1.000000</td>\n",
       "      <td>0.000000</td>\n",
       "      <td>0.000000</td>\n",
       "      <td>2.000000</td>\n",
       "      <td>12.000000</td>\n",
       "      <td>160.185536</td>\n",
       "    </tr>\n",
       "    <tr>\n",
       "      <th>75%</th>\n",
       "      <td>2.018011e+11</td>\n",
       "      <td>3.000000</td>\n",
       "      <td>64.000000</td>\n",
       "      <td>2091.000000</td>\n",
       "      <td>66.000000</td>\n",
       "      <td>1.000000</td>\n",
       "      <td>9.000000</td>\n",
       "      <td>2.000000</td>\n",
       "      <td>2.000000</td>\n",
       "      <td>0.000000</td>\n",
       "      <td>...</td>\n",
       "      <td>6.000000</td>\n",
       "      <td>0.000000</td>\n",
       "      <td>3.000000</td>\n",
       "      <td>2.000000</td>\n",
       "      <td>2.000000</td>\n",
       "      <td>2.000000</td>\n",
       "      <td>1.000000</td>\n",
       "      <td>2.000000</td>\n",
       "      <td>16.000000</td>\n",
       "      <td>180.935347</td>\n",
       "    </tr>\n",
       "    <tr>\n",
       "      <th>max</th>\n",
       "      <td>2.018014e+11</td>\n",
       "      <td>4.000000</td>\n",
       "      <td>83.000000</td>\n",
       "      <td>4125.000000</td>\n",
       "      <td>214.000000</td>\n",
       "      <td>2.000000</td>\n",
       "      <td>10.000000</td>\n",
       "      <td>15.000000</td>\n",
       "      <td>15.000000</td>\n",
       "      <td>10.000000</td>\n",
       "      <td>...</td>\n",
       "      <td>11.000000</td>\n",
       "      <td>1.000000</td>\n",
       "      <td>20.000000</td>\n",
       "      <td>7.000000</td>\n",
       "      <td>12.000000</td>\n",
       "      <td>8.000000</td>\n",
       "      <td>17.000000</td>\n",
       "      <td>2.000000</td>\n",
       "      <td>25.000000</td>\n",
       "      <td>586.072477</td>\n",
       "    </tr>\n",
       "  </tbody>\n",
       "</table>\n",
       "<p>8 rows × 51 columns</p>\n",
       "</div>"
      ],
      "text/plain": [
       "            CASENUM        REGION           PSU            PJ       PSU_VAR  \\\n",
       "count  4.844300e+04  48443.000000  48443.000000  48443.000000  48443.000000   \n",
       "mean   2.018009e+11      2.713436     48.036311   1385.060628     52.416985   \n",
       "std    2.381253e+05      0.906444     19.678810   1064.697585     33.159322   \n",
       "min    2.018004e+11      1.000000     10.000000     45.000000     10.000000   \n",
       "25%    2.018007e+11      2.000000     32.000000    456.000000     32.000000   \n",
       "50%    2.018009e+11      3.000000     48.000000   1098.000000     48.000000   \n",
       "75%    2.018011e+11      3.000000     64.000000   2091.000000     66.000000   \n",
       "max    2.018014e+11      4.000000     83.000000   4125.000000    214.000000   \n",
       "\n",
       "         URBANICITY       STRATUM      VE_TOTAL      VE_FORMS      PVH_INVL  \\\n",
       "count  48443.000000  48443.000000  48443.000000  48443.000000  48443.000000   \n",
       "mean       1.218174      7.296431      1.830646      1.777450      0.053197   \n",
       "std        0.413010      2.508255      0.648344      0.644722      0.275018   \n",
       "min        1.000000      2.000000      1.000000      1.000000      0.000000   \n",
       "25%        1.000000      6.000000      1.000000      1.000000      0.000000   \n",
       "50%        1.000000      8.000000      2.000000      2.000000      0.000000   \n",
       "75%        1.000000      9.000000      2.000000      2.000000      0.000000   \n",
       "max        2.000000     10.000000     15.000000     15.000000     10.000000   \n",
       "\n",
       "       ...     MANCOL_IM    RELJCT1_IM    RELJCT2_IM     LGTCON_IM  \\\n",
       "count  ...  48443.000000  48443.000000  48443.000000  48443.000000   \n",
       "mean   ...      2.607580      0.035382      2.562434      1.595194   \n",
       "std    ...      2.918827      0.184745      2.820116      1.031158   \n",
       "min    ...      0.000000      0.000000      1.000000      1.000000   \n",
       "25%    ...      0.000000      0.000000      1.000000      1.000000   \n",
       "50%    ...      1.000000      0.000000      2.000000      1.000000   \n",
       "75%    ...      6.000000      0.000000      3.000000      2.000000   \n",
       "max    ...     11.000000      1.000000     20.000000      7.000000   \n",
       "\n",
       "          WEATHR_IM     MAXSEV_IM     NO_INJ_IM      ALCHL_IM      PSUSTRAT  \\\n",
       "count  48443.000000  48443.000000  48443.000000  48443.000000  48443.000000   \n",
       "mean       2.602729      0.920236      0.721157      1.948042     12.380571   \n",
       "std        3.246031      1.146145      0.968470      0.221944      6.333932   \n",
       "min        1.000000      0.000000      0.000000      1.000000      1.000000   \n",
       "25%        1.000000      0.000000      0.000000      2.000000      8.000000   \n",
       "50%        1.000000      0.000000      0.000000      2.000000     12.000000   \n",
       "75%        2.000000      2.000000      1.000000      2.000000     16.000000   \n",
       "max       12.000000      8.000000     17.000000      2.000000     25.000000   \n",
       "\n",
       "             WEIGHT  \n",
       "count  48443.000000  \n",
       "mean     139.017326  \n",
       "std       78.195337  \n",
       "min       12.086423  \n",
       "25%       67.781649  \n",
       "50%      160.185536  \n",
       "75%      180.935347  \n",
       "max      586.072477  \n",
       "\n",
       "[8 rows x 51 columns]"
      ]
     },
     "execution_count": 36,
     "metadata": {},
     "output_type": "execute_result"
    }
   ],
   "source": [
    "accident_df.describe()"
   ]
  },
  {
   "cell_type": "code",
   "execution_count": 44,
   "metadata": {},
   "outputs": [],
   "source": [
    "#Shrinking the data for usable collumns \n",
    "location_df = accident_df.loc[:,['CASENUM', 'REGION', 'URBANICITY', 'WRK_ZONE', 'RELJCT2_IM', 'REL_ROAD', 'MANCOL_IM', 'HARM_EV', 'RELJCT1', 'INT_HWY']]"
   ]
  },
  {
   "cell_type": "code",
   "execution_count": 45,
   "metadata": {},
   "outputs": [
    {
     "data": {
      "text/plain": [
       "None            47581\n",
       "Construction      474\n",
       "Unknown Type      304\n",
       "Maintnence         67\n",
       "Utility            17\n",
       "Name: WRK_ZONE, dtype: int64"
      ]
     },
     "execution_count": 45,
     "metadata": {},
     "output_type": "execute_result"
    }
   ],
   "source": [
    "#Replacing Work Zone Variable names \n",
    "location_df['WRK_ZONE'] = location_df['WRK_ZONE'].replace(\n",
    "    { 0: 'None', 1: 'Construction', 2: 'Maintnence', 3: 'Utility', 4:'Unknown Type'})\n",
    "\n",
    "\n",
    "location_df['WRK_ZONE'].value_counts()"
   ]
  },
  {
   "cell_type": "code",
   "execution_count": 46,
   "metadata": {},
   "outputs": [
    {
     "data": {
      "text/plain": [
       "<AxesSubplot:title={'center':'WRK_ZONE'}>"
      ]
     },
     "execution_count": 46,
     "metadata": {},
     "output_type": "execute_result"
    },
    {
     "data": {
      "image/png": "[encoded data removed]",
      "text/plain": [
       "<Figure size 432x288 with 1 Axes>"
      ]
     },
     "metadata": {
      "needs_background": "light"
     },
     "output_type": "display_data"
    }
   ],
   "source": [
    "#Creating Work Zone Variable\n",
    "Work_Zone_Cases = location_df ['WRK_ZONE'].value_counts()\n",
    "Work_Zone_Cases\n",
    "\n",
    "Work_Zone_Cases.T.plot.barh( stacked = True, title = 'WRK_ZONE')"
   ]
  },
  {
   "cell_type": "code",
   "execution_count": 72,
   "metadata": {},
   "outputs": [
    {
     "data": {
      "text/plain": [
       "On Roadway                        38924\n",
       "On Roadside                        5903\n",
       "In Parking Lane/Zone               1493\n",
       "On Median                           972\n",
       "Outside Trafficway                  382\n",
       "On Shoulder                         339\n",
       "Off Roadway – Location Unknown      155\n",
       "Continuous Left Turn Lane            94\n",
       "Gore                                 93\n",
       "Not Reported                         43\n",
       "12                                   26\n",
       "Reported as Unknown                  10\n",
       "Separator                             9\n",
       "Name: REL_ROAD, dtype: int64"
      ]
     },
     "execution_count": 72,
     "metadata": {},
     "output_type": "execute_result"
    }
   ],
   "source": [
    "#Replacing Relative Road Variables \n",
    "location_df['REL_ROAD'] = location_df['REL_ROAD'].replace(\n",
    "    { 1: 'On Roadway', \n",
    "     2: 'On Shoulder', \n",
    "     3: 'On Median', \n",
    "     4: 'On Roadside',\n",
    "     5: 'Outside Trafficway',\n",
    "     6:'Off Roadway – Location Unknown', \n",
    "     7:'In Parking Lane/Zone',\n",
    "     8:'Gore',\n",
    "     10:'Separator',\n",
    "     11:'Continuous Left Turn Lane',\n",
    "     98:'Not Reported',\n",
    "     '--':'Unknown',\n",
    "     99:'Reported as Unknown'})\n",
    "\n",
    "location_df['REL_ROAD'].value_counts()"
   ]
  },
  {
   "cell_type": "code",
   "execution_count": 73,
   "metadata": {},
   "outputs": [
    {
     "data": {
      "text/plain": [
       "<AxesSubplot:title={'center':'REL_ROAD'}>"
      ]
     },
     "execution_count": 73,
     "metadata": {},
     "output_type": "execute_result"
    },
    {
     "data": {
      "image/png": "[encoded data removed]",
      "text/plain": [
       "<Figure size 432x288 with 1 Axes>"
      ]
     },
     "metadata": {
      "needs_background": "light"
     },
     "output_type": "display_data"
    }
   ],
   "source": [
    "#Creating Relative Road Variable\n",
    "relative_road = location_df ['REL_ROAD'].value_counts()\n",
    "relative_road\n",
    "\n",
    "relative_road.T.plot.barh( stacked = True, title = 'REL_ROAD')"
   ]
  },
  {
   "cell_type": "code",
   "execution_count": 74,
   "metadata": {},
   "outputs": [
    {
     "data": {
      "text/plain": [
       "South        24886\n",
       "Midwest       8608\n",
       "West          8208\n",
       "Northeast     6741\n",
       "Name: REGION, dtype: int64"
      ]
     },
     "execution_count": 74,
     "metadata": {},
     "output_type": "execute_result"
    }
   ],
   "source": [
    "#Replacing Region Variables\n",
    "location_df['REGION'] = location_df['REGION'].replace(\n",
    "    {1:'Northeast', 2:'Midwest', 3:'South', 4:'West'})\n",
    "\n",
    "location_df['REGION'].value_counts()\n",
    "\n"
   ]
  },
  {
   "cell_type": "code",
   "execution_count": 75,
   "metadata": {},
   "outputs": [
    {
     "data": {
      "text/plain": [
       "<AxesSubplot:title={'center':'REGION'}>"
      ]
     },
     "execution_count": 75,
     "metadata": {},
     "output_type": "execute_result"
    },
    {
     "data": {
      "image/png": "[encoded data removed]",
      "text/plain": [
       "<Figure size 432x288 with 1 Axes>"
      ]
     },
     "metadata": {
      "needs_background": "light"
     },
     "output_type": "display_data"
    }
   ],
   "source": [
    "#Creating Region Variable \n",
    "Regions = location_df ['REGION'].value_counts()\n",
    "Regions \n",
    "\n",
    "Regions.T.plot.bar( stacked = True, title = 'REGION')"
   ]
  },
  {
   "cell_type": "code",
   "execution_count": 76,
   "metadata": {},
   "outputs": [
    {
     "data": {
      "text/plain": [
       "Urban    37874\n",
       "Rural    10569\n",
       "Name: URBANICITY, dtype: int64"
      ]
     },
     "execution_count": 76,
     "metadata": {},
     "output_type": "execute_result"
    }
   ],
   "source": [
    "location_df['URBANICITY'] = location_df['URBANICITY'].replace(\n",
    "    {1:'Urban', 2:'Rural'}) \n",
    "\n",
    "location_df['URBANICITY'].value_counts()"
   ]
  },
  {
   "cell_type": "code",
   "execution_count": 77,
   "metadata": {},
   "outputs": [
    {
     "data": {
      "text/plain": [
       "<AxesSubplot:title={'center':'URBANICITY'}>"
      ]
     },
     "execution_count": 77,
     "metadata": {},
     "output_type": "execute_result"
    },
    {
     "data": {
      "image/png": "[encoded data removed]",
      "text/plain": [
       "<Figure size 432x288 with 1 Axes>"
      ]
     },
     "metadata": {
      "needs_background": "light"
     },
     "output_type": "display_data"
    }
   ],
   "source": [
    "urban_City = location_df ['URBANICITY'].value_counts()\n",
    "urban_City \n",
    "\n",
    "urban_City.plot.bar( stacked = True, title = 'URBANICITY')"
   ]
  },
  {
   "cell_type": "code",
   "execution_count": 87,
   "metadata": {},
   "outputs": [
    {
     "data": {
      "text/plain": [
       "<AxesSubplot:title={'center':'region_VS_urbancity'}, xlabel='URBANICITY,REGION'>"
      ]
     },
     "execution_count": 87,
     "metadata": {},
     "output_type": "execute_result"
    },
    {
     "data": {
      "image/png": "[encoded data removed]",
      "text/plain": [
       "<Figure size 432x288 with 1 Axes>"
      ]
     },
     "metadata": {
      "needs_background": "light"
     },
     "output_type": "display_data"
    }
   ],
   "source": [
    "#Comparing the region and urbancity \n",
    "#Create a New Data Frame \n",
    "region_VS_urbancity = location_df.loc[:,[ 'URBANICITY',  'REGION']].value_counts()\n",
    "\n",
    "#Group by the total accidents in each area\n",
    "urb_reg_group = region_VS_urbancity.groupby (['URBANICITY',  'REGION']).sum()\n",
    "urb_reg_group\n",
    "\n",
    "urb_reg_group.plot.bar( stacked = True, title = 'region_VS_urbancity')"
   ]
  },
  {
   "cell_type": "code",
   "execution_count": null,
   "metadata": {},
   "outputs": [],
   "source": []
  },
  {
   "cell_type": "code",
   "execution_count": 16,
   "metadata": {},
   "outputs": [
    {
     "data": {
      "text/plain": [
       "No         43617\n",
       "Yes         4822\n",
       "Unknown        4\n",
       "Name: INT_HWY, dtype: int64"
      ]
     },
     "execution_count": 16,
     "metadata": {},
     "output_type": "execute_result"
    }
   ],
   "source": [
    "location_df['INT_HWY'] = location_df['INT_HWY'].replace(\n",
    "    {0:'No', 1:'Yes', 9:'Unknown'})\n",
    "\n",
    "location_df['INT_HWY'].value_counts()"
   ]
  },
  {
   "cell_type": "code",
   "execution_count": 17,
   "metadata": {},
   "outputs": [
    {
     "data": {
      "text/plain": [
       "<AxesSubplot:title={'center':'INT_HWY'}>"
      ]
     },
     "execution_count": 17,
     "metadata": {},
     "output_type": "execute_result"
    },
    {
     "data": {
      "image/png": "[encoded data removed]",
      "text/plain": [
       "<Figure size 432x288 with 1 Axes>"
      ]
     },
     "metadata": {
      "needs_background": "light"
     },
     "output_type": "display_data"
    }
   ],
   "source": [
    "interstate_HWY = location_df ['INT_HWY'].value_counts()\n",
    "interstate_HWY\n",
    "\n",
    "interstate_HWY.plot.barh( stacked = True, title = 'INT_HWY')"
   ]
  },
  {
   "cell_type": "code",
   "execution_count": 20,
   "metadata": {},
   "outputs": [
    {
     "data": {
      "text/plain": [
       "Non-Junction                              21154\n",
       "Intersection Related                      11276\n",
       "Intersection                              10745\n",
       "Driveway Access Related                    3407\n",
       "Entrance/Exit Ramp Related                  572\n",
       "Entrance/Exit Ramp                          501\n",
       "Driveway Access                             366\n",
       "Through Roadway                             202\n",
       "Crossover Related                           105\n",
       "Other Location Within Interchange Area       55\n",
       "Railway Grade Crossing                       34\n",
       "Acceleration/Deceleration Lane               24\n",
       "Shared-Use Path Crossing                      2\n",
       "Name: RELJCT2_IM, dtype: int64"
      ]
     },
     "execution_count": 20,
     "metadata": {},
     "output_type": "execute_result"
    }
   ],
   "source": [
    "location_df['RELJCT2_IM'] = location_df['RELJCT2_IM'].replace(\n",
    "   {1: 'Non-Junction',\n",
    "    2: 'Intersection',\n",
    "    3: 'Intersection Related',\n",
    "    4: 'Driveway Access',\n",
    "    5: 'Entrance/Exit Ramp Related',\n",
    "    6: 'Railway Grade Crossing',\n",
    "    7: 'Crossover Related',\n",
    "    8: 'Driveway Access Related',\n",
    "    16:'Shared-Use Path Crossing',\n",
    "    17:'Acceleration/Deceleration Lane',\n",
    "    18:'Through Roadway',\n",
    "    19:'Other Location Within Interchange Area',\n",
    "    20:'Entrance/Exit Ramp'})\n",
    "\n",
    "location_df['RELJCT2_IM'].value_counts()"
   ]
  },
  {
   "cell_type": "code",
   "execution_count": 31,
   "metadata": {},
   "outputs": [
    {
     "data": {
      "text/plain": [
       "<AxesSubplot:title={'center':'RELJCT2_IM'}>"
      ]
     },
     "execution_count": 31,
     "metadata": {},
     "output_type": "execute_result"
    },
    {
     "data": {
      "image/png": "[encoded data removed]",
      "text/plain": [
       "<Figure size 432x288 with 1 Axes>"
      ]
     },
     "metadata": {
      "needs_background": "light"
     },
     "output_type": "display_data"
    }
   ],
   "source": [
    "relative_junction = location_df ['RELJCT2_IM'].value_counts()\n",
    "relative_junction\n",
    "\n",
    "relative_junction.plot.barh( stacked = True, title = 'RELJCT2_IM')"
   ]
  },
  {
   "cell_type": "code",
   "execution_count": 93,
   "metadata": {},
   "outputs": [
    {
     "data": {
      "text/plain": [
       "Not Collision with Motor Vehicle in Transport    15699\n",
       "Front-to-Rear                                    14513\n",
       "Angle                                            10642\n",
       "Sideswipe, Same Direction                         4725\n",
       "Front-to-Front                                    1537\n",
       "Sideswipe, Opposite Direction                      699\n",
       "Rear-to-Side                                       332\n",
       "Other                                              265\n",
       "Rear-to-Rear                                        31\n",
       "Name: MANCOL_IM, dtype: int64"
      ]
     },
     "execution_count": 93,
     "metadata": {},
     "output_type": "execute_result"
    }
   ],
   "source": [
    "location_df['MANCOL_IM'] = location_df['MANCOL_IM'].replace(\n",
    "   {0:  'Not Collision with Motor Vehicle in Transport',\n",
    "    '--': 'First Harmful Event was Not a Collision with Motor Vehicle in Transport',\n",
    "    1 : 'Front-to-Rear',\n",
    "    2 : 'Front-to-Front',\n",
    "    6 : 'Angle',\n",
    "    7 : 'Sideswipe, Same Direction',\n",
    "    8 : 'Sideswipe, Opposite Direction',\n",
    "    9 : 'Rear-to-Side',\n",
    "    10: 'Rear-to-Rear',\n",
    "    11: 'Other',\n",
    "    98: 'Not Reported',\n",
    "    '--': 'Unknown',\n",
    "    99: 'Reported as Unknown'})\n",
    "\n",
    "location_df['MANCOL_IM'].value_counts()"
   ]
  },
  {
   "cell_type": "code",
   "execution_count": 94,
   "metadata": {},
   "outputs": [
    {
     "data": {
      "text/plain": [
       "<AxesSubplot:title={'center':'Manner_of_Collision'}>"
      ]
     },
     "execution_count": 94,
     "metadata": {},
     "output_type": "execute_result"
    },
    {
     "data": {
      "image/png": "[encoded data removed]",
      "text/plain": [
       "<Figure size 432x288 with 1 Axes>"
      ]
     },
     "metadata": {
      "needs_background": "light"
     },
     "output_type": "display_data"
    }
   ],
   "source": [
    "Manner_of_Collision = location_df ['MANCOL_IM'].value_counts()\n",
    "Manner_of_Collision.T.plot.barh( stacked = True, title = 'Manner_of_Collision')"
   ]
  },
  {
   "cell_type": "code",
   "execution_count": 95,
   "metadata": {},
   "outputs": [
    {
     "data": {
      "text/plain": [
       "Motor Vehicle In-Transport                                                                                                               32610\n",
       "Pedestrian                                                                                                                                2203\n",
       "Parked Motor Vehicle                                                                                                                      1853\n",
       "Live Animal                                                                                                                               1624\n",
       "Pedalcyclist                                                                                                                              1396\n",
       "Rollover/Overturn                                                                                                                         1160\n",
       "Ditch                                                                                                                                      916\n",
       "Tree (Standing Only)                                                                                                                       852\n",
       "Utility Pole/Light Support                                                                                                                 741\n",
       "Curb                                                                                                                                       690\n",
       "Guardrail Face                                                                                                                             554\n",
       "Traffic Sign Support                                                                                                                       388\n",
       "Embankment                                                                                                                                 372\n",
       "Concrete Traffic Barrier                                                                                                                   338\n",
       "Fence                                                                                                                                      306\n",
       "Other Object Not Fixed                                                                                                                     264\n",
       "Mail Box                                                                                                                                   235\n",
       "Other Fixed Object                                                                                                                         217\n",
       "Culvert                                                                                                                                    186\n",
       "Post, Pole or Other Support                                                                                                                143\n",
       "Guardrail End                                                                                                                              134\n",
       "Motor Vehicle In-Transport Strikes or is Struck by Cargo, Persons or Objects Set-in-Motion from/by Another Motor Vehicle In-Transport      132\n",
       "Non-Motorist on Personal Conveyance                                                                                                        121\n",
       "Cable Barrier                                                                                                                              116\n",
       "Wall                                                                                                                                       100\n",
       "Fell/Jumped from Vehicle                                                                                                                    83\n",
       "Building                                                                                                                                    76\n",
       "Fire Hydrant                                                                                                                                65\n",
       "Bridge Rail (Includes Parapet)                                                                                                              45\n",
       "Pavement Surface Irregularity (Ruts, Potholes, Grates, etc.)                                                                                38\n",
       "Traffic Signal Support                                                                                                                      34\n",
       "Fire/Explosion                                                                                                                              34\n",
       "Jackknife (Harmful to This Vehicle)                                                                                                         30\n",
       "Unknown Fixed Object                                                                                                                        28\n",
       "Shrubbery                                                                                                                                   28\n",
       "Impact Attenuator/Crash Cushion                                                                                                             27\n",
       "Bridge Overhead Structure                                                                                                                   27\n",
       "Other Traffic Barrier                                                                                                                       26\n",
       "Ground                                                                                                                                      26\n",
       "Working Motor Vehicle                                                                                                                       25\n",
       "Other Noncollision                                                                                                                          25\n",
       "Snow Bank                                                                                                                                   23\n",
       "Boulder                                                                                                                                     23\n",
       "Unknown Object Not Fixed                                                                                                                    22\n",
       "Cargo/Equipment Loss, Shift, or Damage (Harmful)                                                                                            21\n",
       "Thrown or Falling Object                                                                                                                    19\n",
       "Bridge Pier or Support                                                                                                                      15\n",
       "Immersion or Partial Immersion                                                                                                              13\n",
       "Reported as Unknown                                                                                                                         12\n",
       "Object That Had Fallen From Motor Vehicle In-Transport                                                                                      12\n",
       "Railway Vehicle                                                                                                                              9\n",
       "Injured in Vehicle (Non-Collision)                                                                                                           5\n",
       "Motor Vehicle in Motion Outside the Trafficway                                                                                               1\n",
       "Name: HARM_EV, dtype: int64"
      ]
     },
     "execution_count": 95,
     "metadata": {},
     "output_type": "execute_result"
    }
   ],
   "source": [
    "location_df['HARM_EV'] = location_df['HARM_EV'].replace(\n",
    "   {1: 'Rollover/Overturn',\n",
    "2: 'Fire/Explosion',\n",
    "3: 'Immersion or Partial Immersion',\n",
    "4: 'Gas Inhalation',\n",
    "5: 'Fell/Jumped from Vehicle',\n",
    "6: 'Injured in Vehicle (Non-Collision)',\n",
    "7: 'Other Noncollision',\n",
    "16:'Thrown or Falling Object',\n",
    "44:'Pavement Surface Irregularity (Ruts, Potholes, Grates, etc.)',\n",
    "51:'Jackknife (Harmful to This Vehicle)',\n",
    "'--': 'Cargo/Equipment Loss or Shift (Harmful to This Vehicle)',\n",
    "72:'Cargo/Equipment Loss, Shift, or Damage (Harmful)',\n",
    "\n",
    "12:'Motor Vehicle In-Transport',\n",
    "54:'Motor Vehicle In-Transport Strikes or is Struck by Cargo, Persons or Objects Set-in-Motion from/by Another Motor Vehicle In-Transport',\n",
    "55:'Motor Vehicle in Motion Outside the Trafficway',\n",
    "\n",
    "8:  'Pedestrian',\n",
    "9:  'Pedalcyclist',\n",
    "10: 'Railway Vehicle',\n",
    "11: 'Live Animal',\n",
    "14: 'Parked Motor Vehicle',\n",
    "15: 'Non-Motorist on Personal Conveyance',\n",
    "18: 'Other Object Not Fixed',\n",
    "45: 'Working Motor Vehicle',\n",
    "49: 'Ridden Animal or Animal Drawn Conveyance',\n",
    "73: 'Object That Had Fallen From Motor Vehicle In-Transport',\n",
    "74: 'Road Vehicle on Rails',\n",
    "91: 'Unknown Object Not Fixed',\n",
    "\n",
    "17: 'Boulder',\n",
    "19: 'Building',\n",
    "20: 'Impact Attenuator/Crash Cushion',\n",
    "21: 'Bridge Pier or Support',\n",
    "23: 'Bridge Rail (Includes Parapet)',\n",
    "24: 'Guardrail Face',\n",
    "25: 'Concrete Traffic Barrier',\n",
    "26: 'Other Traffic Barrier',\n",
    "30: 'Utility Pole/Light Support',\n",
    "31: 'Post, Pole or Other Support',\n",
    "32: 'Culvert',\n",
    "33: 'Curb',\n",
    "34: 'Ditch',\n",
    "35: 'Embankment',\n",
    "38: 'Fence',\n",
    "39: 'Wall',\n",
    "40: 'Fire Hydrant',\n",
    "\n",
    "41: 'Shrubbery',\n",
    "42: 'Tree (Standing Only)',\n",
    "43: 'Other Fixed Object',\n",
    "46: 'Traffic Signal Support',\n",
    "48: 'Snow Bank',\n",
    "50: 'Bridge Overhead Structure',\n",
    "52: 'Guardrail End',\n",
    "53: 'Mail Box',\n",
    "57: 'Cable Barrier',\n",
    "58: 'Ground',\n",
    "59: 'Traffic Sign Support',\n",
    "93: 'Unknown Fixed Object',\n",
    "98: 'Harmful Event, Details Not Reported (Since 2019)',\n",
    "'--': 'Unknown',\n",
    "99: 'Reported as Unknown',})\n",
    "\n",
    "location_df['HARM_EV'].value_counts()"
   ]
  },
  {
   "cell_type": "code",
   "execution_count": 96,
   "metadata": {},
   "outputs": [
    {
     "data": {
      "text/plain": [
       "<AxesSubplot:title={'center':'HARM_EV'}>"
      ]
     },
     "execution_count": 96,
     "metadata": {},
     "output_type": "execute_result"
    },
    {
     "data": {
      "image/png": "[encoded data removed]",
      "text/plain": [
       "<Figure size 432x288 with 1 Axes>"
      ]
     },
     "metadata": {
      "needs_background": "light"
     },
     "output_type": "display_data"
    }
   ],
   "source": [
    "harm_Condition = location_df ['HARM_EV'].value_counts().head(10)\n",
    "\n",
    "harm_Condition.T.plot.barh( stacked = True, title = 'HARM_EV')"
   ]
  },
  {
   "cell_type": "code",
   "execution_count": 103,
   "metadata": {},
   "outputs": [
    {
     "data": {
      "text/plain": [
       "<AxesSubplot:title={'center':'Manner_VS_Region'}, xlabel='MANCOL_IM,REGION'>"
      ]
     },
     "execution_count": 103,
     "metadata": {},
     "output_type": "execute_result"
    },
    {
     "data": {
      "image/png": "[encoded data removed]",
      "text/plain": [
       "<Figure size 432x288 with 1 Axes>"
      ]
     },
     "metadata": {
      "needs_background": "light"
     },
     "output_type": "display_data"
    }
   ],
   "source": [
    "#Comparing the region and urbancity \n",
    "#Create a New Data Frame \n",
    "Manner_VS_Region = location_df.loc[:,[ 'MANCOL_IM', 'REGION']].value_counts()\n",
    "Manner_VS_Region\n",
    "\n",
    "#Group by the total accidents in each area\n",
    "mann_Region_group = Manner_VS_Region.groupby (['MANCOL_IM', 'REGION']).sum().head(10)\n",
    "mann_Region_group\n",
    "\n",
    "mann_Region_group.plot.bar( stacked = True, title = 'Manner_VS_Region')\n"
   ]
  },
  {
   "cell_type": "code",
   "execution_count": null,
   "metadata": {},
   "outputs": [],
   "source": []
  }
 ],
 "metadata": {
  "kernelspec": {
   "display_name": "Python 3 (ipykernel)",
   "language": "python",
   "name": "python3"
  },
  "language_info": {
   "codemirror_mode": {
    "name": "ipython",
    "version": 3
   },
   "file_extension": ".py",
   "mimetype": "text/x-python",
   "name": "python",
   "nbconvert_exporter": "python",
   "pygments_lexer": "ipython3",
   "version": "3.8.8"
  }
 },
 "nbformat": 4,
 "nbformat_minor": 2
}
