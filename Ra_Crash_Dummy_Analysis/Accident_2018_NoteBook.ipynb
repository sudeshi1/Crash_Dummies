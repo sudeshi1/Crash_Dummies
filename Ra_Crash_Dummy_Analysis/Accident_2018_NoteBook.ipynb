{
 "cells": [
  {
   "cell_type": "code",
   "execution_count": null,
   "metadata": {},
   "outputs": [],
   "source": [
    "import pandas as pd\n",
    "import numpy as np\n",
    "import matplotlib.pyplot as plt\n",
    "import os\n",
    "import csv\n",
    "\n",
    "csvpath = os.path.join('2018_Crash_Information','ACCIDENT.csv')\n",
    "\n"
   ]
  },
  {
   "cell_type": "code",
   "execution_count": null,
   "metadata": {},
   "outputs": [],
   "source": [
    "accident_df = pd.read_csv('/Users/raishandrews/Desktop/Crash_Dummy/2018_Crash_Information/ACCIDENT.csv')"
   ]
  },
  {
   "cell_type": "code",
   "execution_count": null,
   "metadata": {},
   "outputs": [],
   "source": [
    "with open(csvpath) as csvfile:\n",
    "    csvreader = csv.reader(csvfile, delimiter=\",\")\n",
    "    csv_header = next(csvreader)\n",
    "#     print(f\"CSV Header: {csv_header}\")\n",
    "#     for row in csvreader:\n",
    "#         print(row)    "
   ]
  },
  {
   "cell_type": "code",
   "execution_count": null,
   "metadata": {
    "scrolled": true
   },
   "outputs": [],
   "source": [
    "accident_df.head()"
   ]
  },
  {
   "cell_type": "code",
   "execution_count": null,
   "metadata": {},
   "outputs": [],
   "source": [
    "accident_df.describe()"
   ]
  },
  {
   "cell_type": "code",
   "execution_count": null,
   "metadata": {},
   "outputs": [],
   "source": [
    "#Shrinking the data for usable collumns \n",
    "location_df = accident_df.loc[:,['CASENUM', 'REGION', 'URBANICITY', 'WRK_ZONE', 'RELJCT2_IM', 'REL_ROAD', 'MANCOL_IM', 'HARM_EV', 'RELJCT1', 'INT_HWY']]"
   ]
  },
  {
   "cell_type": "code",
   "execution_count": null,
   "metadata": {},
   "outputs": [],
   "source": [
    "#Replacing Work Zone Variable names \n",
    "location_df['WRK_ZONE'] = location_df['WRK_ZONE'].replace(\n",
    "    { 0: 'None', 1: 'Construction', 2: 'Maintnence', 3: 'Utility', 4:'Unknown Type'})\n",
    "\n",
    "\n",
    "location_df['WRK_ZONE'].value_counts()"
   ]
  },
  {
   "cell_type": "code",
   "execution_count": null,
   "metadata": {},
   "outputs": [],
   "source": [
    "#Creating Work Zone Variable\n",
    "Work_Zone_Cases = location_df ['WRK_ZONE'].value_counts()\n",
    "Work_Zone_Cases\n",
    "\n",
    "Work_Zone_Cases.T.plot.barh( stacked = True, title = 'WRK_ZONE')"
   ]
  },
  {
   "cell_type": "code",
   "execution_count": null,
   "metadata": {},
   "outputs": [],
   "source": [
    "#Replacing Relative Road Variables \n",
    "location_df['REL_ROAD'] = location_df['REL_ROAD'].replace(\n",
    "    { 1: 'On Roadway', \n",
    "     2: 'On Shoulder', \n",
    "     3: 'On Median', \n",
    "     4: 'On Roadside',\n",
    "     5: 'Outside Trafficway',\n",
    "     6:'Off Roadway – Location Unknown', \n",
    "     7:'In Parking Lane/Zone',\n",
    "     8:'Gore',\n",
    "     10:'Separator',\n",
    "     11:'Continuous Left Turn Lane',\n",
    "     98:'Not Reported',\n",
    "     '--':'Unknown',\n",
    "     99:'Reported as Unknown'})\n",
    "\n",
    "location_df['REL_ROAD'].value_counts()"
   ]
  },
  {
   "cell_type": "code",
   "execution_count": null,
   "metadata": {},
   "outputs": [],
   "source": [
    "#Creating Relative Road Variable\n",
    "relative_road = location_df ['REL_ROAD'].value_counts()\n",
    "relative_road\n",
    "\n",
    "relative_road.T.plot.barh( stacked = True, title = 'REL_ROAD')"
   ]
  },
  {
   "cell_type": "code",
   "execution_count": null,
   "metadata": {},
   "outputs": [],
   "source": [
    "#Replacing Region Variables\n",
    "location_df['REGION'] = location_df['REGION'].replace(\n",
    "    {1:'Northeast', 2:'Midwest', 3:'South', 4:'West'})\n",
    "\n",
    "location_df['REGION'].value_counts()\n",
    "\n"
   ]
  },
  {
   "cell_type": "code",
   "execution_count": null,
   "metadata": {},
   "outputs": [],
   "source": [
    "#Creating Region Variable \n",
    "Regions = location_df ['REGION'].value_counts()\n",
    "Regions \n",
    "\n",
    "Regions.T.plot.barh( stacked = True, title = 'REGION')"
   ]
  },
  {
   "cell_type": "code",
   "execution_count": null,
   "metadata": {},
   "outputs": [],
   "source": [
    "location_df['URBANICITY'] = location_df['URBANICITY'].replace(\n",
    "    {1:'Urban', 2:'Rural'}) \n",
    "\n",
    "location_df['URBANICITY'].value_counts()"
   ]
  },
  {
   "cell_type": "code",
   "execution_count": null,
   "metadata": {},
   "outputs": [],
   "source": [
    "urban_City = location_df ['URBANICITY'].value_counts()\n",
    "urban_City \n",
    "\n",
    "urban_City.plot.barh( stacked = True, title = 'URBANICITY')"
   ]
  },
  {
   "cell_type": "code",
   "execution_count": null,
   "metadata": {},
   "outputs": [],
   "source": [
    "region_VS_urbancity = accident_df.loc[:,[ 'URBANICITY',  'REGION']]\n",
    "region_VS_urbancity\n",
    "\n",
    "region_VS_urbancity.plot.barh( stacked = True, title = 'URBANICITY')"
   ]
  },
  {
   "cell_type": "code",
   "execution_count": null,
   "metadata": {},
   "outputs": [],
   "source": []
  },
  {
   "cell_type": "code",
   "execution_count": null,
   "metadata": {},
   "outputs": [],
   "source": [
    "location_df['INT_HWY'] = location_df['INT_HWY'].replace(\n",
    "    {0:'No', 1:'Yes', 9:'Unknown'})\n",
    "\n",
    "location_df['INT_HWY'].value_counts()"
   ]
  },
  {
   "cell_type": "code",
   "execution_count": null,
   "metadata": {},
   "outputs": [],
   "source": [
    "interstate_HWY = location_df ['INT_HWY'].value_counts()\n",
    "interstate_HWY\n",
    "\n",
    "interstate_HWY.plot.barh( stacked = True, title = 'INT_HWY')"
   ]
  },
  {
   "cell_type": "code",
   "execution_count": null,
   "metadata": {},
   "outputs": [],
   "source": [
    "location_df['RELJCT2_IM'] = location_df['RELJCT2_IM'].replace(\n",
    "   {1: 'Non-Junction',\n",
    "    2: 'Intersection',\n",
    "    3: 'Intersection Related',\n",
    "    4: 'Driveway Access',\n",
    "    5: 'Entrance/Exit Ramp Related',\n",
    "    6: 'Railway Grade Crossing',\n",
    "    7: 'Crossover Related',\n",
    "    8: 'Driveway Access Related',\n",
    "    16:'Shared-Use Path Crossing',\n",
    "    17:'Acceleration/Deceleration Lane',\n",
    "    18:'Through Roadway',\n",
    "    19:'Other Location Within Interchange Area',\n",
    "    20:'Entrance/Exit Ramp'})\n",
    "\n",
    "location_df['RELJCT2_IM'].value_counts()"
   ]
  },
  {
   "cell_type": "code",
   "execution_count": null,
   "metadata": {},
   "outputs": [],
   "source": [
    "relative_junction = location_df ['RELJCT2_IM'].value_counts()\n",
    "relative_junction\n",
    "\n",
    "relative_junction.plot.barh( stacked = True, title = 'RELJCT2_IM')\n",
    "\n",
    "labels =  'Non-Junction','Intersection','Intersection Related', 'Driveway Access','Entrance/Exit Ramp Related','Railway Grade Crossing','Crossover Related',\n",
    "'Driveway Access Related','Shared-Use Path Crossing','Acceleration/Deceleration Lane','Through Roadway','Other Location Within Interchange Area',\n",
    "'Entrance/Exit Ramp''Frogs', 'Hogs', 'Dogs', 'Logs'\n",
    "sizes = [15, 30, 45, 10]\n",
    "explode = (0, 0.1, 0, 0)  # only \"explode\" the 2nd slice (i.e. 'Hogs')\n",
    "\n",
    "fig1, ax1 = plt.subplots()\n",
    "ax1.pie(sizes, explode=explode, labels=labels, autopct='%1.1f%%',\n",
    "        shadow=True, startangle=90)\n",
    "ax1.axis('equal')  # Equal aspect ratio ensures that pie is drawn as a circle.\n",
    "\n",
    "plt.show()"
   ]
  },
  {
   "cell_type": "code",
   "execution_count": null,
   "metadata": {},
   "outputs": [],
   "source": [
    "location_df['MANCOL_IM'] = location_df['MANCOL_IM'].replace(\n",
    "   {0:  'Not Collision with Motor Vehicle in Transport',\n",
    "    '--': 'First Harmful Event was Not a Collision with Motor Vehicle in Transport',\n",
    "    1 : 'Front-to-Rear',\n",
    "    2 : 'Front-to-Front',\n",
    "    6 : 'Angle',\n",
    "    7 : 'Sideswipe, Same Direction',\n",
    "    8 : 'Sideswipe, Opposite Direction',\n",
    "    9 : 'Rear-to-Side',\n",
    "    10: 'Rear-to-Rear',\n",
    "    11: 'Other',\n",
    "    98: 'Not Reported',\n",
    "    '--': 'Unknown',\n",
    "    99: 'Reported as Unknown'})\n",
    "\n",
    "location_df['MANCOL_IM'].value_counts()"
   ]
  },
  {
   "cell_type": "code",
   "execution_count": null,
   "metadata": {},
   "outputs": [],
   "source": [
    "Manner_VS_ = location_df.groupby(['MONTH', \"URBANICITY\"]).count()[\"CASENUM\"]\n",
    "Manner_of_Collision.T.plot.barh( stacked = True, title = 'Manner_of_Collision')"
   ]
  },
  {
   "cell_type": "code",
   "execution_count": null,
   "metadata": {},
   "outputs": [],
   "source": [
    "Manner_of_Collision = location_df ['MANCOL_IM'].value_counts()\n",
    "Manner_of_Collision.T.plot.barh( stacked = True, title = 'Manner_of_Collision')"
   ]
  },
  {
   "cell_type": "code",
   "execution_count": null,
   "metadata": {},
   "outputs": [],
   "source": [
    "location_df['HARM_EV'] = location_df['HARM_EV'].replace(\n",
    "   {1: 'Rollover/Overturn',\n",
    "2: 'Fire/Explosion',\n",
    "3: 'Immersion or Partial Immersion',\n",
    "4: 'Gas Inhalation',\n",
    "5: 'Fell/Jumped from Vehicle',\n",
    "6: 'Injured in Vehicle (Non-Collision)',\n",
    "7: 'Other Noncollision',\n",
    "16:'Thrown or Falling Object',\n",
    "44:'Pavement Surface Irregularity (Ruts, Potholes, Grates, etc.)',\n",
    "51:'Jackknife (Harmful to This Vehicle)',\n",
    "'--': 'Cargo/Equipment Loss or Shift (Harmful to This Vehicle)',\n",
    "72:'Cargo/Equipment Loss, Shift, or Damage (Harmful)',\n",
    "\n",
    "12:'Motor Vehicle In-Transport',\n",
    "54:'Motor Vehicle In-Transport Strikes or is Struck by Cargo, Persons or Objects Set-in-Motion from/by Another Motor Vehicle In-Transport',\n",
    "55:'Motor Vehicle in Motion Outside the Trafficway',\n",
    "\n",
    "8:  'Pedestrian',\n",
    "9:  'Pedalcyclist',\n",
    "10: 'Railway Vehicle',\n",
    "11: 'Live Animal',\n",
    "14: 'Parked Motor Vehicle',\n",
    "15: 'Non-Motorist on Personal Conveyance',\n",
    "18: 'Other Object Not Fixed',\n",
    "45: 'Working Motor Vehicle',\n",
    "49: 'Ridden Animal or Animal Drawn Conveyance',\n",
    "73: 'Object That Had Fallen From Motor Vehicle In-Transport',\n",
    "74: 'Road Vehicle on Rails',\n",
    "91: 'Unknown Object Not Fixed',\n",
    "\n",
    "17: 'Boulder',\n",
    "19: 'Building',\n",
    "20: 'Impact Attenuator/Crash Cushion',\n",
    "21: 'Bridge Pier or Support',\n",
    "23: 'Bridge Rail (Includes Parapet)',\n",
    "24: 'Guardrail Face',\n",
    "25: 'Concrete Traffic Barrier',\n",
    "26: 'Other Traffic Barrier',\n",
    "30: 'Utility Pole/Light Support',\n",
    "31: 'Post, Pole or Other Support',\n",
    "32: 'Culvert',\n",
    "33: 'Curb',\n",
    "34: 'Ditch',\n",
    "35: 'Embankment',\n",
    "38: 'Fence',\n",
    "39: 'Wall',\n",
    "40: 'Fire Hydrant',\n",
    "\n",
    "41: 'Shrubbery',\n",
    "42: 'Tree (Standing Only)',\n",
    "43: 'Other Fixed Object',\n",
    "46: 'Traffic Signal Support',\n",
    "48: 'Snow Bank',\n",
    "50: 'Bridge Overhead Structure',\n",
    "52: 'Guardrail End',\n",
    "53: 'Mail Box',\n",
    "57: 'Cable Barrier',\n",
    "58: 'Ground',\n",
    "59: 'Traffic Sign Support',\n",
    "93: 'Unknown Fixed Object',\n",
    "98: 'Harmful Event, Details Not Reported (Since 2019)',\n",
    "'--': 'Unknown',\n",
    "99: 'Reported as Unknown',})\n",
    "\n",
    "location_df['HARM_EV'].value_counts()"
   ]
  },
  {
   "cell_type": "code",
   "execution_count": null,
   "metadata": {},
   "outputs": [],
   "source": [
    "harm_Condition = location_df ['HARM_EV'].value_counts().head(10)\n",
    "\n",
    "harm_Condition.T.plot.barh( stacked = True, title = 'HARM_EV')"
   ]
  },
  {
   "cell_type": "code",
   "execution_count": null,
   "metadata": {},
   "outputs": [],
   "source": [
    "location_df['RELJCT1'] = location_df['RELJCT1'].replace(\n",
    "   {0: 'No',\n",
    "    1: 'Yes',\n",
    "    8: 'Not Reported',\n",
    "    '--': 'Unknown',\n",
    "    9: 'Reported as Unknown'})\n",
    "\n",
    "\n",
    "location_df['RELJCT1'].value_counts()"
   ]
  },
  {
   "cell_type": "code",
   "execution_count": null,
   "metadata": {},
   "outputs": [],
   "source": [
    "relative_Junction = location_df ['RELJCT1'].value_counts()\n",
    "relative_Junction"
   ]
  },
  {
   "cell_type": "code",
   "execution_count": null,
   "metadata": {},
   "outputs": [],
   "source": [
    "clean_location_df = location_df.loc[:,['REGION', 'URBANICITY', 'WRK_ZONE', 'RELJCT2_IM', 'REL_ROAD', 'MANCOL_IM', 'HARM_EV', 'RELJCT1', 'INT_HWY']]"
   ]
  },
  {
   "cell_type": "code",
   "execution_count": null,
   "metadata": {},
   "outputs": [],
   "source": [
    "clean_location_df"
   ]
  },
  {
   "cell_type": "code",
   "execution_count": null,
   "metadata": {},
   "outputs": [],
   "source": [
    "clean_location_df.describe()\n"
   ]
  },
  {
   "cell_type": "code",
   "execution_count": null,
   "metadata": {},
   "outputs": [],
   "source": [
    "by_MANCOL_IM = clean_location_df.loc[:,['REGION', 'MANCOL_IM']]\n",
    "by_MANCOL_IM.count()"
   ]
  },
  {
   "cell_type": "code",
   "execution_count": null,
   "metadata": {},
   "outputs": [],
   "source": [
    "by_MANCOL_IM = clean_location_df.groupby(['REGION'])"
   ]
  },
  {
   "cell_type": "code",
   "execution_count": null,
   "metadata": {},
   "outputs": [],
   "source": [
    "\n",
    "by_MANCOL_IM.describe()"
   ]
  },
  {
   "cell_type": "code",
   "execution_count": null,
   "metadata": {},
   "outputs": [],
   "source": [
    "Work_Zone_Cases = location_df ['WRK_ZONE']\n",
    "Work_Zone_Cases\n",
    "\n",
    "Manner_of_Collision = location_df ['MANCOL_IM']\n",
    "Manner_of_Collision\n",
    "\n",
    "\n",
    "Gender_Demo = {\n",
    "    'Manner of Collision' : Manner_of_Collision,\n",
    "    'Work Zone Cases': Work_Zone_Cases\n",
    "} \n",
    "df = pd.DataFrame(Gender_Demo)\n",
    "df\n",
    "\n"
   ]
  },
  {
   "cell_type": "code",
   "execution_count": null,
   "metadata": {},
   "outputs": [],
   "source": [
    "Work_Zone_Cases = location_df ['WRK_ZONE'].value_counts()\n",
    "Work_Zone_Cases\n",
    "\n",
    "\n",
    "harm_Condition = location_df ['HARM_EV'].value_counts()\n",
    "harm_Condition\n",
    "\n",
    "Gender_Demo = {\n",
    "    'Work Zone Cases': Work_Zone_Cases,\n",
    "'Manner of Collision' : Manner_of_Collision} \n",
    "df = pd.DataFrame(Gender_Demo)\n",
    "df"
   ]
  }
 ],
 "metadata": {
  "kernelspec": {
   "display_name": "Python 3 (ipykernel)",
   "language": "python",
   "name": "python3"
  },
  "language_info": {
   "codemirror_mode": {
    "name": "ipython",
    "version": 3
   },
   "file_extension": ".py",
   "mimetype": "text/x-python",
   "name": "python",
   "nbconvert_exporter": "python",
   "pygments_lexer": "ipython3",
   "version": "3.8.8"
  }
 },
 "nbformat": 4,
 "nbformat_minor": 2
}
